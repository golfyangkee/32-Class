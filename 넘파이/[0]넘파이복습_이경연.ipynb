{
 "cells": [
  {
   "cell_type": "code",
   "execution_count": 3,
   "id": "2b636dd0",
   "metadata": {},
   "outputs": [
    {
     "data": {
      "text/plain": [
       "array([[1, 2, 3],\n",
       "       [4, 5, 6]])"
      ]
     },
     "execution_count": 3,
     "metadata": {},
     "output_type": "execute_result"
    }
   ],
   "source": [
    "# 1) np.array()\n",
    "import numpy as np\n",
    "\n",
    "x = np.array([[1, 2, 3], [4, 5, 6]], np.int32)\n",
    "x\n",
    "# array([[1, 2, 3],\n",
    "#        [4, 5, 6]])"
   ]
  },
  {
   "cell_type": "code",
   "execution_count": 5,
   "id": "12279085",
   "metadata": {},
   "outputs": [
    {
     "data": {
      "text/plain": [
       "array([[0., 0.],\n",
       "       [0., 0.]])"
      ]
     },
     "execution_count": 5,
     "metadata": {},
     "output_type": "execute_result"
    }
   ],
   "source": [
    "# 2) np.zeros()\n",
    "np.zeros(5)\n",
    "# array([ 0.,  0.,  0.,  0.,  0.])\n",
    "\n",
    "s = (2,2)\n",
    "np.zeros(s)\n",
    "# array([[0., 0.],\n",
    "#        [0., 0.]])"
   ]
  },
  {
   "cell_type": "code",
   "execution_count": 7,
   "id": "8d388c22",
   "metadata": {},
   "outputs": [
    {
     "data": {
      "text/plain": [
       "array([[1., 1.],\n",
       "       [1., 1.]])"
      ]
     },
     "execution_count": 7,
     "metadata": {},
     "output_type": "execute_result"
    }
   ],
   "source": [
    "# 3) np.ones()\n",
    "np.ones(5)\n",
    "#array([1., 1., 1., 1., 1.])\n",
    "\n",
    "s = (2,2)\n",
    "np.ones(s)\n",
    "# array([[1., 1.],\n",
    "#        [1., 1.]])"
   ]
  },
  {
   "cell_type": "code",
   "execution_count": 9,
   "id": "26e32a0b",
   "metadata": {},
   "outputs": [
    {
     "data": {
      "text/plain": [
       "array([[10, 10],\n",
       "       [10, 10]])"
      ]
     },
     "execution_count": 9,
     "metadata": {},
     "output_type": "execute_result"
    }
   ],
   "source": [
    "# 4) np.full()\n",
    "np.full((2, 2), 10)\n",
    "# array([[10, 10],\n",
    "#        [10, 10]])\n",
    "np.full((2, 2), [1, 2])\n",
    "# array([[1, 2],\n",
    "#        [1, 2]])"
   ]
  },
  {
   "cell_type": "code",
   "execution_count": 14,
   "id": "a949b2c5",
   "metadata": {},
   "outputs": [
    {
     "name": "stdout",
     "output_type": "stream",
     "text": [
      "[1 2 3 4 5 6]\n"
     ]
    },
    {
     "data": {
      "text/plain": [
       "array([[1, 4],\n",
       "       [2, 5],\n",
       "       [3, 6]])"
      ]
     },
     "execution_count": 14,
     "metadata": {},
     "output_type": "execute_result"
    }
   ],
   "source": [
    "# 5) np.ravel()\n",
    "x = np.array([[1, 2, 3], [4, 5, 6]])\n",
    "res=np.ravel(x)\n",
    "print(res)  # [1 2 3 4 5 6]\n",
    "\n",
    "np.ravel(x, order='F') # 행별로 평탄화\n",
    "# array([1, 4, 2, 5, 3, 6])\n",
    "\n",
    "x.T\n",
    "# array([[1, 4],\n",
    "#        [2, 5],\n",
    "#        [3, 6]])\n",
    "np.ravel(x.T)\n",
    "# array([1, 4, 2, 5, 3, 6])\n",
    "np.ravel(x.T, order='A')\n",
    "# array([1, 2, 3, 4, 5, 6])"
   ]
  },
  {
   "cell_type": "code",
   "execution_count": 17,
   "id": "5752abcc",
   "metadata": {},
   "outputs": [
    {
     "data": {
      "text/plain": [
       "array([[4, 1],\n",
       "       [2, 2]])"
      ]
     },
     "execution_count": 17,
     "metadata": {},
     "output_type": "execute_result"
    }
   ],
   "source": [
    "# 6) np.dot()\n",
    "# dot(a, b)[i,j,k,m] = sum(a[i,j,:] * b[k,:,m])\n",
    "a = [[1, 0], \n",
    "     [0, 1]]\n",
    "b = [[4, 1], \n",
    "     [2, 2]]\n",
    "np.dot(a, b)\n",
    "# array([[4, 1],  [1*4 + 0*2, 1*1 + 0*2]\n",
    "#        [2, 2]]) [0*4 + 1*2, 0*1 + 1*2]"
   ]
  },
  {
   "cell_type": "code",
   "execution_count": 22,
   "id": "2bd50838",
   "metadata": {},
   "outputs": [
    {
     "data": {
      "text/plain": [
       "array([1, 2, 3, 4, 5, 6])"
      ]
     },
     "execution_count": 22,
     "metadata": {},
     "output_type": "execute_result"
    }
   ],
   "source": [
    "# 7) np.concatenate()\n",
    "a = np.array([[1, 2], \n",
    "              [3, 4]])\n",
    "b = np.array([[5, 6]])\n",
    "\n",
    "np.concatenate((a, b), axis=0)\n",
    "# array([[1, 2],\n",
    "#        [3, 4],\n",
    "#        [5, 6]])\n",
    "np.concatenate((a, b), axis=None)\n",
    "# array([1, 2, 3, 4, 5, 6])\n",
    "\n",
    "print(b.T)\n",
    "# [[5]\n",
    "#  [6]]\n",
    "np.concatenate((a, b.T), axis=1)\n",
    "# array([[1, 2, 5],\n",
    "#        [3, 4, 6]])"
   ]
  },
  {
   "cell_type": "code",
   "execution_count": null,
   "id": "d97c2fc1",
   "metadata": {},
   "outputs": [],
   "source": [
    "# 8) np.vstack()\n",
    "a = np.array([1, 2, 3])\n",
    "b = np.array([4, 5, 6])\n",
    "np.vstack((a,b))\n",
    "# array([[1, 2, 3],\n",
    "#        [4, 5, 6]])\n",
    "\n",
    "a = np.array([[1], \n",
    "              [2], \n",
    "              [3]])\n",
    "b = np.array([[4], \n",
    "              [5], \n",
    "              [6]])\n",
    "np.vstack((a,b))\n",
    "# array([[1],\n",
    "#        [2],\n",
    "#        [3],\n",
    "#        [4],\n",
    "#        [5],\n",
    "#        [6]])"
   ]
  },
  {
   "cell_type": "code",
   "execution_count": null,
   "id": "fe82ae29",
   "metadata": {},
   "outputs": [],
   "source": [
    "# 9) np.where()\n",
    "a = np.arange(10)\n",
    "# a = array([0, 1, 2, 3, 4, 5, 6, 7, 8, 9])\n",
    "np.where(a < 5, a, 10*a) # 5보다 작은 것은 그대로 나오게 하고 그 외는 10을 곱해서 나오게 하라\n",
    "# array([ 0,  1,  2,  3,  4, 50, 60, 70, 80, 90])"
   ]
  },
  {
   "cell_type": "code",
   "execution_count": 23,
   "id": "676c8f24",
   "metadata": {},
   "outputs": [
    {
     "data": {
      "text/plain": [
       "1.118033988749895"
      ]
     },
     "execution_count": 23,
     "metadata": {},
     "output_type": "execute_result"
    }
   ],
   "source": [
    "# 10) np.std() 표준 편차 계산\n",
    "a = np.array([[1, 2], [3, 4]])\n",
    "np.std(a)\n",
    "# 1.118033988749895"
   ]
  },
  {
   "cell_type": "code",
   "execution_count": 25,
   "id": "a8a0500c",
   "metadata": {},
   "outputs": [
    {
     "data": {
      "text/plain": [
       "array([1, 3, 5])"
      ]
     },
     "execution_count": 25,
     "metadata": {},
     "output_type": "execute_result"
    }
   ],
   "source": [
    "# 11) np.max() 최댓값 반환\n",
    "a=([[0, 1],\n",
    "    [2, 3],\n",
    "    [4, 5]])\n",
    "np.max(a)    # 5\n",
    "np.max(a, axis=0) # [4, 5]\n",
    "np.max(a, axis=1) # [1, 3, 5]"
   ]
  },
  {
   "cell_type": "code",
   "execution_count": null,
   "id": "cb591ce1",
   "metadata": {},
   "outputs": [],
   "source": [
    "# 12) np.argmax() 최대값의 인덱스 반환\n",
    "a=([[10, 11, 12],\n",
    "    [13, 14, 15]])\n",
    "np.argmax(a) # 15= a[1,2] = 평탄화하면 a[5] -> 5\n",
    "np.argmax(a, axis=0) # 세로로 했을때\n",
    "# [10,13] 중에 [13]이니까 인덱스 [1] = array [1,1,1]\n",
    "np.argmax(a, axis=1) # 가로로 했을 때\n",
    "# [10,11,12] 중에 [12] 니까 [2]\n",
    "# [13,14,15] 중에 [15] 니까 [2] = array [2,2]"
   ]
  },
  {
   "cell_type": "code",
   "execution_count": null,
   "id": "9b4d3edf",
   "metadata": {},
   "outputs": [],
   "source": [
    "# 13) np.eye()\n",
    "np.eye(2, dtype=int)\n",
    "# array([[1, 0],\n",
    "#        [0, 1]])"
   ]
  },
  {
   "cell_type": "code",
   "execution_count": 28,
   "id": "24c140d6",
   "metadata": {},
   "outputs": [
    {
     "data": {
      "text/plain": [
       "array([3, 5])"
      ]
     },
     "execution_count": 28,
     "metadata": {},
     "output_type": "execute_result"
    }
   ],
   "source": [
    "# 14) np.arange()\n",
    "np.arange(3)\n",
    "# array([0, 1, 2])\n",
    "np.arange(3,7)\n",
    "# array([3, 4, 5, 6])\n",
    "np.arange(3,7,2)\n",
    "# array([3, 5])"
   ]
  },
  {
   "cell_type": "code",
   "execution_count": 29,
   "id": "38f4a06d",
   "metadata": {},
   "outputs": [
    {
     "data": {
      "text/plain": [
       "array([2.  , 2.25, 2.5 , 2.75, 3.  ])"
      ]
     },
     "execution_count": 29,
     "metadata": {},
     "output_type": "execute_result"
    }
   ],
   "source": [
    "# 15) np.linspace()\n",
    "np.linspace(2.0, 3.0, num=5)\n",
    "# 2~3 까지를 5개로 나눠서 출력해라\n",
    "# array([2.  , 2.25, 2.5 , 2.75, 3.  ])"
   ]
  },
  {
   "cell_type": "code",
   "execution_count": 30,
   "id": "dcb7c6ca",
   "metadata": {},
   "outputs": [
    {
     "data": {
      "text/plain": [
       "array([[0, 1],\n",
       "       [2, 3],\n",
       "       [4, 5]])"
      ]
     },
     "execution_count": 30,
     "metadata": {},
     "output_type": "execute_result"
    }
   ],
   "source": [
    "# 16) np.reshape()\n",
    "a = np.arange(6).reshape((3, 2))\n",
    "#np.arange(6)=[0,1,2,3,4,5] 3열 2행으로 분류해라\n",
    "a\n",
    "# array([[0, 1],\n",
    "#        [2, 3],\n",
    "#        [4, 5]])"
   ]
  },
  {
   "cell_type": "code",
   "execution_count": 32,
   "id": "285bd8b3",
   "metadata": {},
   "outputs": [
    {
     "data": {
      "text/plain": [
       "array([1, 2, 3, 4])"
      ]
     },
     "execution_count": 32,
     "metadata": {},
     "output_type": "execute_result"
    }
   ],
   "source": [
    "# 17) np.transpose() 전환\n",
    "a=([[1, 2],\n",
    "    [3, 4]])\n",
    "np.transpose(a)\n",
    "# array([[1, 3],\n",
    "#        [2, 4]])\n",
    "a=([1, 2, 3, 4])\n",
    "np.transpose(a) # 안 바뀜\n",
    "# array([1, 2, 3, 4])"
   ]
  },
  {
   "cell_type": "code",
   "execution_count": null,
   "id": "a0ad1089",
   "metadata": {},
   "outputs": [],
   "source": [
    "# 18) np.cross() 두 배열의 외적계산\n",
    "x = [1, 2, 3]\n",
    "y = [4, 5, 6]\n",
    "np.cross(x, y)\n",
    "# array([-3,  6, -3]) \n",
    "[2*6-3*5, 3*4-1*6,1*5-2*4]"
   ]
  },
  {
   "cell_type": "code",
   "execution_count": 36,
   "id": "9e8e6281",
   "metadata": {},
   "outputs": [
    {
     "data": {
      "text/plain": [
       "[array([0., 1., 2.]), array([3., 4., 5.]), array([6., 7., 8.])]"
      ]
     },
     "execution_count": 36,
     "metadata": {},
     "output_type": "execute_result"
    }
   ],
   "source": [
    "# 19) np.split()\n",
    "x = np.arange(9.0) #[0. 1. 2. 3. 4. 5. 6. 7. 8.]\n",
    "np.split(x, 3)\n",
    "# [array([0., 1., 2.]), \n",
    "#  array([3., 4., 5.]), \n",
    "#  array([6., 7., 8.])]"
   ]
  },
  {
   "cell_type": "code",
   "execution_count": 42,
   "id": "6c68678d",
   "metadata": {},
   "outputs": [
    {
     "data": {
      "text/plain": [
       "array([[1, 4],\n",
       "       [2, 5],\n",
       "       [3, 6]])"
      ]
     },
     "execution_count": 42,
     "metadata": {},
     "output_type": "execute_result"
    }
   ],
   "source": [
    "# 20) np.hstack() 배열을 수평으로 쌓음\n",
    "a = np.array((1,2,3))\n",
    "b = np.array((4,5,6))\n",
    "np.hstack((a,b))\n",
    "# array([1, 2, 3, 4, 5, 6])\n",
    "\n",
    "a = np.array([[1],[2],[3]])\n",
    "b = np.array([[4],[5],[6]])\n",
    "np.hstack((a,b))\n",
    "# array([[1, 4],\n",
    "#        [2, 5],\n",
    "#        [3, 6]])\n"
   ]
  },
  {
   "cell_type": "code",
   "execution_count": null,
   "id": "aa32cb27",
   "metadata": {},
   "outputs": [],
   "source": [
    "# 21) np.mean() 평균 계산\n",
    "a = np.array([[1, 2], \n",
    "              [3, 4]])\n",
    "np.mean(a) # 2.5\n",
    "\n",
    "np.mean(a, axis=0)\n",
    "# array([2., 3.])\n",
    "\n",
    "np.mean(a, axis=1)\n",
    "# array([1.5, 3.5])"
   ]
  },
  {
   "cell_type": "code",
   "execution_count": null,
   "id": "73a217a5",
   "metadata": {},
   "outputs": [],
   "source": [
    "# 22) np.min() 최대값 인덱스\n",
    "a=([[0, 1],\n",
    "    [2, 3]])\n",
    "np.min(a)  # 0\n",
    "np.min(a, axis=0)  # 세로로 봤을 때니까\n",
    "# [0,2] 중에 [0] [1,3]중에 [1] = array[0,1]\n",
    "np.min(a, axis=1) # 가로로 봤을 때\n",
    "# [0,1] 중에 [0] [2,3] 증에 [2] = array [0,2]"
   ]
  },
  {
   "cell_type": "code",
   "execution_count": null,
   "id": "41a77cda",
   "metadata": {},
   "outputs": [],
   "source": [
    "# 23) np.argmin() 최소값 인덱스\n",
    "a = ([[10, 11, 12],\n",
    "       [13, 14, 15]])\n",
    "np.argmin(a) # 0 = a[0,0]\n",
    "\n",
    "np.argmin(a, axis=0)\n",
    "# array([0, 0, 0]) [10,13] 중에 [0] 인덱스\n",
    "\n",
    "np.argmin(a, axis=1)\n",
    "# array([0, 0]) [10,11,12] 중에 [10] [0] 인덱스"
   ]
  },
  {
   "cell_type": "code",
   "execution_count": 4,
   "id": "a627566f",
   "metadata": {},
   "outputs": [
    {
     "data": {
      "text/plain": [
       "array([1, 2, 3])"
      ]
     },
     "execution_count": 4,
     "metadata": {},
     "output_type": "execute_result"
    }
   ],
   "source": [
    "# 24) np.unique() 중복값 제거\n",
    "import numpy as np\n",
    "np.unique([1, 3, 2, 3, 1, 3])\n",
    "# array([1, 2, 3]) 정렬까지 해준다.\n",
    "\n",
    "a = np.array([[2, 3, 4], [1, 0, 0], [1, 0, 0]])\n",
    "np.unique(a,axis=0)\n",
    "# array([[1, 0, 0],\n",
    "#        [2, 3, 4]])  중복값 제거 및 정렬까지"
   ]
  }
 ],
 "metadata": {
  "kernelspec": {
   "display_name": "Python 3 (ipykernel)",
   "language": "python",
   "name": "python3"
  },
  "language_info": {
   "codemirror_mode": {
    "name": "ipython",
    "version": 3
   },
   "file_extension": ".py",
   "mimetype": "text/x-python",
   "name": "python",
   "nbconvert_exporter": "python",
   "pygments_lexer": "ipython3",
   "version": "3.11.5"
  }
 },
 "nbformat": 4,
 "nbformat_minor": 5
}
