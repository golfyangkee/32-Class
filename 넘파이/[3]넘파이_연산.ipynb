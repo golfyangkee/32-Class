{
 "cells": [
  {
   "cell_type": "markdown",
   "id": "e3bb42f5",
   "metadata": {},
   "source": [
    "### numpy\n",
    "1) 배열 생성 : np.array(), np.zeros(), np.ones(), np.empty()_빈 객체 생성, 초기화 시켜줌, np.arange(), np.linspace(),\n",
    "2) 배열 연산 : 사칙연산, np.dot()_내적(행렬 곱셈), np.sum(), np.mean(), np.max(), np.min(), np.std(), np.var(), np.sqrt()_제곱근\n",
    "3) 형태변경, 슬라이싱: np.reshape(), np.transpose()_행과 렬을 바꿔주겠다., arr.T [start:end-1:step]\n",
    "4) 인덱싱과 부울 마스킹 : 배열 요소 접근, 조건에 따라 배열 요소 접근\n",
    "5) 집계 정렬 : np.sort(), np.unique()_종복요소제거, np.histogram()_평균화 만들때 많이 쓴다.\n",
    "6) 브로드캐스팅 : 서로 다른 크기의 배열간에 연산을 수행하는 기능 // 메소드는 없는데 numpy가 가진 속성 중에 np.newaxis\n",
    "7) 선형대수 : np.linalg.inv()_행렬 자체의 역행렬, det()_행렬식을 만드는 것, eig()_정사각형 행렬의 고유값과 고유벡터\n",
    "8) 논리연산 : np.logical_and(), np.logical_or(), np.logical_not()"
   ]
  },
  {
   "cell_type": "markdown",
   "id": "69c4f04e",
   "metadata": {},
   "source": [
    "### a.sort() 랑 sort(a)랑 차이점\n",
    "- 이 메서드는 리스트 a를 \"in-place\"로 정렬합니다. \"In-place\" 정렬은 원래의 리스트를 변경하며, 새로운 정렬된 리스트를 생성하지 않습니다. 따라서 메모리 사용이 효율적입니다. 이 메서드는 None을 반환하며, 원래의 리스트가 정렬된 상태로 변경됩니다.\n",
    "- 이 함수는 리스트 a를 정렬한 새로운 리스트를 반환합니다. 원래의 리스트는 변경되지 않습니다. 따라서 정렬된 결과를 사용하고 싶을 때, 원래의 리스트를 유지하고자 할 때 유용합니다."
   ]
  },
  {
   "cell_type": "markdown",
   "id": "151b7343",
   "metadata": {},
   "source": [
    "#### 5) 집계 정렬 : np.sort(), np.unique()_중복요소제거, np.histogram()를 활용해보자."
   ]
  },
  {
   "cell_type": "code",
   "execution_count": 1,
   "id": "1306231d",
   "metadata": {},
   "outputs": [],
   "source": [
    "import numpy as np"
   ]
  },
  {
   "cell_type": "code",
   "execution_count": 7,
   "id": "70e1b1b4",
   "metadata": {},
   "outputs": [
    {
     "data": {
      "text/plain": [
       "array([3, 6, 8, 8, 7, 4, 7, 9, 2, 9, 0, 8, 9, 8, 4, 3])"
      ]
     },
     "execution_count": 7,
     "metadata": {},
     "output_type": "execute_result"
    }
   ],
   "source": [
    "arr=np.array([3,6,8,8,7,4,7,9,2,9,0,8,9,8,4,3])\n",
    "arr"
   ]
  },
  {
   "cell_type": "code",
   "execution_count": 8,
   "id": "3e6d6d4e",
   "metadata": {},
   "outputs": [
    {
     "data": {
      "text/plain": [
       "array([0, 2, 3, 3, 4, 4, 6, 7, 7, 8, 8, 8, 8, 9, 9, 9])"
      ]
     },
     "execution_count": 8,
     "metadata": {},
     "output_type": "execute_result"
    }
   ],
   "source": [
    "# 정렬\n",
    "np.sort(arr)"
   ]
  },
  {
   "cell_type": "code",
   "execution_count": 2,
   "id": "7bc3517b",
   "metadata": {},
   "outputs": [
    {
     "name": "stdout",
     "output_type": "stream",
     "text": [
      "Help on function sort in module numpy:\n",
      "\n",
      "sort(a, axis=-1, kind=None, order=None)\n",
      "    Return a sorted copy of an array.\n",
      "    \n",
      "    Parameters\n",
      "    ----------\n",
      "    a : array_like\n",
      "        Array to be sorted.\n",
      "    axis : int or None, optional\n",
      "        Axis along which to sort. If None, the array is flattened before\n",
      "        sorting. The default is -1, which sorts along the last axis.\n",
      "    kind : {'quicksort', 'mergesort', 'heapsort', 'stable'}, optional\n",
      "        Sorting algorithm. The default is 'quicksort'. Note that both 'stable'\n",
      "        and 'mergesort' use timsort or radix sort under the covers and, in general,\n",
      "        the actual implementation will vary with data type. The 'mergesort' option\n",
      "        is retained for backwards compatibility.\n",
      "    \n",
      "        .. versionchanged:: 1.15.0.\n",
      "           The 'stable' option was added.\n",
      "    \n",
      "    order : str or list of str, optional\n",
      "        When `a` is an array with fields defined, this argument specifies\n",
      "        which fields to compare first, second, etc.  A single field can\n",
      "        be specified as a string, and not all fields need be specified,\n",
      "        but unspecified fields will still be used, in the order in which\n",
      "        they come up in the dtype, to break ties.\n",
      "    \n",
      "    Returns\n",
      "    -------\n",
      "    sorted_array : ndarray\n",
      "        Array of the same type and shape as `a`.\n",
      "    \n",
      "    See Also\n",
      "    --------\n",
      "    ndarray.sort : Method to sort an array in-place.\n",
      "    argsort : Indirect sort.\n",
      "    lexsort : Indirect stable sort on multiple keys.\n",
      "    searchsorted : Find elements in a sorted array.\n",
      "    partition : Partial sort.\n",
      "    \n",
      "    Notes\n",
      "    -----\n",
      "    The various sorting algorithms are characterized by their average speed,\n",
      "    worst case performance, work space size, and whether they are stable. A\n",
      "    stable sort keeps items with the same key in the same relative\n",
      "    order. The four algorithms implemented in NumPy have the following\n",
      "    properties:\n",
      "    \n",
      "    =========== ======= ============= ============ ========\n",
      "       kind      speed   worst case    work space   stable\n",
      "    =========== ======= ============= ============ ========\n",
      "    'quicksort'    1     O(n^2)            0          no\n",
      "    'heapsort'     3     O(n*log(n))       0          no\n",
      "    'mergesort'    2     O(n*log(n))      ~n/2        yes\n",
      "    'timsort'      2     O(n*log(n))      ~n/2        yes\n",
      "    =========== ======= ============= ============ ========\n",
      "    \n",
      "    .. note:: The datatype determines which of 'mergesort' or 'timsort'\n",
      "       is actually used, even if 'mergesort' is specified. User selection\n",
      "       at a finer scale is not currently available.\n",
      "    \n",
      "    All the sort algorithms make temporary copies of the data when\n",
      "    sorting along any but the last axis.  Consequently, sorting along\n",
      "    the last axis is faster and uses less space than sorting along\n",
      "    any other axis.\n",
      "    \n",
      "    The sort order for complex numbers is lexicographic. If both the real\n",
      "    and imaginary parts are non-nan then the order is determined by the\n",
      "    real parts except when they are equal, in which case the order is\n",
      "    determined by the imaginary parts.\n",
      "    \n",
      "    Previous to numpy 1.4.0 sorting real and complex arrays containing nan\n",
      "    values led to undefined behaviour. In numpy versions >= 1.4.0 nan\n",
      "    values are sorted to the end. The extended sort order is:\n",
      "    \n",
      "      * Real: [R, nan]\n",
      "      * Complex: [R + Rj, R + nanj, nan + Rj, nan + nanj]\n",
      "    \n",
      "    where R is a non-nan real value. Complex values with the same nan\n",
      "    placements are sorted according to the non-nan part if it exists.\n",
      "    Non-nan values are sorted as before.\n",
      "    \n",
      "    .. versionadded:: 1.12.0\n",
      "    \n",
      "    quicksort has been changed to `introsort <https://en.wikipedia.org/wiki/Introsort>`_.\n",
      "    When sorting does not make enough progress it switches to\n",
      "    `heapsort <https://en.wikipedia.org/wiki/Heapsort>`_.\n",
      "    This implementation makes quicksort O(n*log(n)) in the worst case.\n",
      "    \n",
      "    'stable' automatically chooses the best stable sorting algorithm\n",
      "    for the data type being sorted.\n",
      "    It, along with 'mergesort' is currently mapped to\n",
      "    `timsort <https://en.wikipedia.org/wiki/Timsort>`_\n",
      "    or `radix sort <https://en.wikipedia.org/wiki/Radix_sort>`_\n",
      "    depending on the data type.\n",
      "    API forward compatibility currently limits the\n",
      "    ability to select the implementation and it is hardwired for the different\n",
      "    data types.\n",
      "    \n",
      "    .. versionadded:: 1.17.0\n",
      "    \n",
      "    Timsort is added for better performance on already or nearly\n",
      "    sorted data. On random data timsort is almost identical to\n",
      "    mergesort. It is now used for stable sort while quicksort is still the\n",
      "    default sort if none is chosen. For timsort details, refer to\n",
      "    `CPython listsort.txt <https://github.com/python/cpython/blob/3.7/Objects/listsort.txt>`_.\n",
      "    'mergesort' and 'stable' are mapped to radix sort for integer data types. Radix sort is an\n",
      "    O(n) sort instead of O(n log n).\n",
      "    \n",
      "    .. versionchanged:: 1.18.0\n",
      "    \n",
      "    NaT now sorts to the end of arrays for consistency with NaN.\n",
      "    \n",
      "    Examples\n",
      "    --------\n",
      "    >>> a = np.array([[1,4],[3,1]])\n",
      "    >>> np.sort(a)                # sort along the last axis\n",
      "    array([[1, 4],\n",
      "           [1, 3]])\n",
      "    >>> np.sort(a, axis=None)     # sort the flattened array\n",
      "    array([1, 1, 3, 4])\n",
      "    >>> np.sort(a, axis=0)        # sort along the first axis\n",
      "    array([[1, 1],\n",
      "           [3, 4]])\n",
      "    \n",
      "    Use the `order` keyword to specify a field to use when sorting a\n",
      "    structured array:\n",
      "    \n",
      "    >>> dtype = [('name', 'S10'), ('height', float), ('age', int)]\n",
      "    >>> values = [('Arthur', 1.8, 41), ('Lancelot', 1.9, 38),\n",
      "    ...           ('Galahad', 1.7, 38)]\n",
      "    >>> a = np.array(values, dtype=dtype)       # create a structured array\n",
      "    >>> np.sort(a, order='height')                        # doctest: +SKIP\n",
      "    array([('Galahad', 1.7, 38), ('Arthur', 1.8, 41),\n",
      "           ('Lancelot', 1.8999999999999999, 38)],\n",
      "          dtype=[('name', '|S10'), ('height', '<f8'), ('age', '<i4')])\n",
      "    \n",
      "    Sort by age, then height if ages are equal:\n",
      "    \n",
      "    >>> np.sort(a, order=['age', 'height'])               # doctest: +SKIP\n",
      "    array([('Galahad', 1.7, 38), ('Lancelot', 1.8999999999999999, 38),\n",
      "           ('Arthur', 1.8, 41)],\n",
      "          dtype=[('name', '|S10'), ('height', '<f8'), ('age', '<i4')])\n",
      "\n"
     ]
    }
   ],
   "source": [
    "help(np.sort)\n",
    "#     =========== ======= ============= ============ ========\n",
    "#        kind      speed   worst case    work space   stable\n",
    "#     =========== ======= ============= ============ ========\n",
    "#     'quicksort'    1     O(n^2)            0          no\n",
    "#     'heapsort'     3     O(n*log(n))       0          no\n",
    "#     'mergesort'    2     O(n*log(n))      ~n/2        yes\n",
    "#     'timsort'      2     O(n*log(n))      ~n/2        yes\n",
    "#     =========== ======= ============= ============ ========\n",
    "# 나중에 알고리즘이랑 코테할 때 쓴다고 함"
   ]
  },
  {
   "cell_type": "code",
   "execution_count": 2,
   "id": "292a9e60",
   "metadata": {},
   "outputs": [
    {
     "name": "stdout",
     "output_type": "stream",
     "text": [
      "[('Arthur', 1.8, 41) ('Galahad', 1.7, 38) ('Lancelot', 1.9, 38)\n",
      " ('김길동', 1.7, 28) ('김길동', 1.7, 28) ('홍길동', 2. , 18)]\n"
     ]
    }
   ],
   "source": [
    "import numpy as np\n",
    "\n",
    "dtype = [('name', 'U10'), ('height', 'f4'), ('age', 'i4')]\n",
    "values = [('Arthur',        1.8,               41), \n",
    "          ('Lancelot',      1.9,               38),\n",
    "          ('Galahad',       1.7,               38),\n",
    "          ('홍길동',        2.0,               18),\n",
    "          ('김길동',        1.7,               28),\n",
    "          ('김길동',        1.7,               28),]\n",
    "a = np.array(values, dtype=dtype)\n",
    "print(np.sort(a, order='name'))"
   ]
  },
  {
   "cell_type": "code",
   "execution_count": 10,
   "id": "7d683121",
   "metadata": {},
   "outputs": [
    {
     "data": {
      "text/plain": [
       "(array([0, 2, 3, 4, 6, 7, 8, 9]),\n",
       " array([3, 6, 8, 8, 7, 4, 7, 9, 2, 9, 0, 8, 9, 8, 4, 3]))"
      ]
     },
     "execution_count": 10,
     "metadata": {},
     "output_type": "execute_result"
    }
   ],
   "source": [
    "# 중복 요소 제거\n",
    "np.unique(arr), arr"
   ]
  },
  {
   "cell_type": "code",
   "execution_count": 4,
   "id": "c66336ec",
   "metadata": {},
   "outputs": [
    {
     "data": {
      "text/plain": [
       "((5,),\n",
       " array([('Arthur', 1.8, 41), ('Galahad', 1.7, 38), ('Lancelot', 1.9, 38),\n",
       "        ('김길동', 1.7, 28), ('홍길동', 2. , 18)],\n",
       "       dtype=[('name', '<U10'), ('height', '<f4'), ('age', '<i4')]))"
      ]
     },
     "execution_count": 4,
     "metadata": {},
     "output_type": "execute_result"
    }
   ],
   "source": [
    "res=np.unique(a)\n",
    "res.shape, res"
   ]
  },
  {
   "cell_type": "code",
   "execution_count": 11,
   "id": "62d0d0bb",
   "metadata": {},
   "outputs": [
    {
     "name": "stdout",
     "output_type": "stream",
     "text": [
      "빈도 :  [0 2 1]\n",
      "구간 :  [0 1 2 3]\n"
     ]
    }
   ],
   "source": [
    "# 히스토그램 histogram()\n",
    " \n",
    "# << 아날로그 -> 디지털 변환 흐름>>\n",
    "# 아날로그에서 디지털로 바꾸려면 양자화 작업을 해야 한다. 히스토빈즈가 발생하는데\n",
    "# 이미지가 들어오면 가져다가 구간별 샘플링을 가지고 오고 주파수 변환을 한다. 아날로그니까 파형으로 뽑아오고(사인코사인합)\n",
    "# 어느 구간을 샘플링 하고 빈즈를 만들고 히스토가 발생. 한 구간씩 컴퓨터가 빈즈당 하나씩 만든다.\n",
    "# 구간별 최대값이 나오는데 전체 데이터에서 빈즈라고 하는데\n",
    "# S(샘플링) -> 양자화(최대값) -> 이진화(로 바꾸는 코드가 디지털)\n",
    "# 양자화 하위 구간이랑 맥스 해논거랑 이등분? 이랑 해서 2진화로 만들고\n",
    "# 이진화는 양자화 0부터 최대값 등 3등분 해서 0000 0001 등 만든다. 1 2 4 8\n",
    "# 이걸 가지고 와서 벡터라이징 한 다음에 계산해서 이미지 복원해서 사용\n",
    "# 양자화는 주파수 분리이며 이때 히스토그램을 쓴다. \n",
    "# 히스토그램은 빈즈로 나눈 값을 가져다가 그 구간의 값을 활용하는 것이다.\n",
    "\n",
    "# help(np.histogram)\n",
    "# 히스토그램 -> 데이터 분포 시각화 / 색상대조 대비(색상분포)\n",
    "# : 주어진 데이터를 구간(bins)에 따라 나누고, 각 구간에 속하는 데이터 포인트의 개수를 hist 배열에 저장한다.\n",
    "# 구간의 정보를 bins 배열에 저장한다.\n",
    "# return: hist(array), bin_deges\n",
    "hist,bins=np.histogram([1, 2, 1], bins=[0, 1, 2, 3])\n",
    "print(\"빈도 : \", hist) #[0, 2, 1]\n",
    "print(\"구간 : \", bins) #[0, 1, 2, 3]\n",
    "# [0, 1, 2, 3] 구간의 첫 경계 첫번째 구간 0이상 1미만, 두번째 구간 1이상 2미만, 세번째 구간 2이상 3미만"
   ]
  },
  {
   "cell_type": "markdown",
   "id": "67ede39c",
   "metadata": {},
   "source": [
    "## 무시....\n",
    "- data [1, 2, 1] bins = [0, 1, 2, 3]\n",
    "- 첫번째 구간 [0, 1]에는 1과 1이 포함  -> hist 첫번째 요소는 2\n",
    "- 두번째 구간 [1, 2]에는 2가 포함      -> hist 두번째 요소는 1\n",
    "- 세번째 구간 [2, 3]에는 데이터가 없다 -> hist 세번째 요소는 0  \n",
    "hist = [2, 1, 0]  \n",
    "bins = [0, 1, 2, 3]"
   ]
  },
  {
   "cell_type": "code",
   "execution_count": 51,
   "id": "23297c36",
   "metadata": {},
   "outputs": [],
   "source": [
    "b=np.histogram(np.arange(4), bins=np.arange(5), density=True)\n",
    "#(array([0.25, 0.25, 0.25, 0.25]), array([0, 1, 2, 3, 4]))\n",
    "\n",
    "c=np.histogram([[1, 2, 1], [1, 0, 1]], bins=[0,1,2,3])\n",
    "#(array([1, 4, 1]), array([0, 1, 2, 3]))"
   ]
  },
  {
   "cell_type": "code",
   "execution_count": 14,
   "id": "6f13cad4",
   "metadata": {},
   "outputs": [
    {
     "name": "stdout",
     "output_type": "stream",
     "text": [
      "[0, 0, 0, 1, 1, 2]\n",
      "빈도: [3 2 1]\n",
      "구간 경계: [0.         0.66666667 1.33333333 2.        ]\n"
     ]
    },
    {
     "data": {
      "image/png": "[encoded data removed]",
      "text/plain": [
       "<Figure size 640x480 with 1 Axes>"
      ]
     },
     "metadata": {},
     "output_type": "display_data"
    }
   ],
   "source": [
    "import numpy as np\n",
    "import matplotlib.pyplot as plt\n",
    "\n",
    "#data = [5,5,5,2,2,3,3,4,4,6]\n",
    "\n",
    "# 문자열에 대한 히스토그램 진행 해보기\n",
    "# bins 에는 숫자만 넣어야 해서 딕셔너리로 변경해서 하면 된다.\n",
    "data = ['A','A','A','B','B','C']\n",
    "\n",
    "my_key={'A':0, 'B':1, 'C':2}\n",
    "\n",
    "mapped_data=[my_key[item] for item in data]\n",
    "print(mapped_data)\n",
    "\n",
    "# 히스토그램 계산\n",
    "hist, bins = np.histogram(mapped_data, bins=3)\n",
    "# 데이터를 가지고 bins를 만든다. bins가 0 1 2 3 항상 이런게 아니라 \n",
    "# 구간 경계: [0.         0.66666667 1.33333333 2.        ] 데이터에 따라 변함\n",
    "\n",
    "print(\"빈도:\", hist)\n",
    "print(\"구간 경계:\", bins)\n",
    "\n",
    "# 히스토그램 시각화\n",
    "# alpha는 matplotlib 라이브러리에서 그래픽 요소의 투명도를 나타내는 매개변수입니다. \n",
    "# 0에서 1 사이 부동소수점. \n",
    "# 0에 가까울수록 투명하고, 1에 가까울수록 불투명합니다.\n",
    "plt.hist(data, bins=10, alpha=0.5, color='b', edgecolor='black')\n",
    "plt.xlabel(\"value\")\n",
    "plt.ylabel(\"bins\")\n",
    "plt.title(\"histogram\")\n",
    "plt.grid(True)\n",
    "plt.show()"
   ]
  },
  {
   "cell_type": "markdown",
   "id": "6a4e396a",
   "metadata": {},
   "source": [
    "#### 6) 브로드캐스팅 : 서로 다른 크기의 배열간에 연산을 수행하는 기능 // 메소드는 없는데 numpy가 가진 속성 중에 np.newaxis\n",
    "- https://numpy.org/doc/stable/reference/generated/numpy.broadcast.html#numpy.broadcast"
   ]
  },
  {
   "cell_type": "code",
   "execution_count": 64,
   "id": "dbffbaea",
   "metadata": {},
   "outputs": [
    {
     "name": "stdout",
     "output_type": "stream",
     "text": [
      "[11 22 33 44]\n",
      "[ -9 -18 -27 -36]\n",
      "[ 10  40  90 160]\n",
      "[0.1 0.1 0.1 0.1]\n"
     ]
    }
   ],
   "source": [
    "# 크기가 같은 배열 연산 (연산은 보통 사이즈가 다를 때 많이 쓴다)\n",
    "arr1= np.array([1,2,3,4])\n",
    "arr2= np.array([10,20,30,40])\n",
    "print(arr1+arr2) # 색상 대비, 밝기를 더 강하게 조정한다. (이미지, 영상, 소리 -> 숫자의 배열로 변환 -> 연산하게 된다.)\n",
    "                 # 영상의 기본 단위는 픽셀이고 화소라고 한다. (x,y,[R,G,B])\n",
    "print(arr1-arr2) # 색상 대비, 밝기가 어두워짐\n",
    "print(arr1*arr2)\n",
    "print(arr1/arr2)"
   ]
  },
  {
   "cell_type": "code",
   "execution_count": 17,
   "id": "75898b82",
   "metadata": {},
   "outputs": [
    {
     "name": "stdout",
     "output_type": "stream",
     "text": [
      "[1 2 3]\n",
      "[10 20 30 40]\n",
      "[[10]\n",
      " [20]\n",
      " [30]\n",
      " [40]] (4, 1)\n",
      "[[ 10  20  30]\n",
      " [ 20  40  60]\n",
      " [ 30  60  90]\n",
      " [ 40  80 120]]\n",
      "[[ 10  20  30]\n",
      " [ 20  40  60]\n",
      " [ 30  60  90]\n",
      " [ 40  80 120]]\n"
     ]
    }
   ],
   "source": [
    "# 크기가 다른 크기의 배열 연산\n",
    "arr1= np.array([1,2,3])\n",
    "arr2= np.array([10,20,30,40])\n",
    "#print(arr1*arr2)  Error arr1에 arr2를 곱하겠다\n",
    "print(arr1)\n",
    "print(arr2)\n",
    "res=arr2[:,np.newaxis] # 행과 열이면 2차원으로 만들겠다. newaxis 새롭게 축을 만듦\n",
    "print(res, res.shape)\n",
    "print(arr1*res) # 열벡터로 변환한 다음 곱셈을 수행한다."
   ]
  },
  {
   "cell_type": "code",
   "execution_count": 16,
   "id": "a8375d52",
   "metadata": {},
   "outputs": [
    {
     "name": "stdout",
     "output_type": "stream",
     "text": [
      "[[ 74  80  86  92]\n",
      " [173 188 203 218]]\n",
      "1114\n"
     ]
    }
   ],
   "source": [
    "# 규칙: 2*3 행렬과 3*4 행렬을 곱하려면 두번째 행렬의 열의 수와 첫번째 행렬의 행수가 일치하여야 한다.\n",
    "a=np.array([[1,2,3],\n",
    "            [4,5,6]])\n",
    "\n",
    "b=np.array([[7,8,9,10],\n",
    "            [11,12,13,14],\n",
    "            [15,16,17,18]])\n",
    "\n",
    "result = np.dot(a,b)\n",
    "print(result)\n",
    "\n",
    "hap=np.sum(result)\n",
    "print(hap)"
   ]
  },
  {
   "cell_type": "markdown",
   "id": "58c16cb1",
   "metadata": {},
   "source": [
    "행렬 곱셈을 수행할 때 규칙  \n",
    "-- 1) 첫번째 행렬의 열수와 두번째 행렬의 행 수가 동일해야 한다.  \n",
    "-- 2) 행렬의 결과 크기는 첫번째 행렬의 행 수와 두번째 행렬의 열 수에 의해 결정된다.  \n",
    "\n",
    "-- ex) A = m x n, B = n x p 라면 두행렬의 곱한 결과 행렬 C 는 m x p가 된다."
   ]
  },
  {
   "cell_type": "code",
   "execution_count": null,
   "id": "7194c1f8",
   "metadata": {},
   "outputs": [],
   "source": []
  }
 ],
 "metadata": {
  "kernelspec": {
   "display_name": "Python 3 (ipykernel)",
   "language": "python",
   "name": "python3"
  },
  "language_info": {
   "codemirror_mode": {
    "name": "ipython",
    "version": 3
   },
   "file_extension": ".py",
   "mimetype": "text/x-python",
   "name": "python",
   "nbconvert_exporter": "python",
   "pygments_lexer": "ipython3",
   "version": "3.11.5"
  }
 },
 "nbformat": 4,
 "nbformat_minor": 5
}
