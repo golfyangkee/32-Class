{
 "cells": [
  {
   "cell_type": "markdown",
   "id": "1ea55eb2",
   "metadata": {},
   "source": [
    "<< 사이킷런의 시뮬레이션 데이터 생성 make_* >>  \n",
    "머신러닝에서 제공해주는 알고리즘을 테스트 해볼 수 있다.\n",
    "- (분류)     make_classification : 사용자가 정의한 수의 특성, 클래스 및 샘플을 포함해서 생성\n",
    "- (회귀)     make_regression : 사용자가 정의한 수의 특성, 정보 특성 및 샘플을 포함해서 생성\n",
    "- (클러스터) make_blobs : 사용자가 정의한 수의 클러스터 및 샘플 포함해서 생성         - 비선형\n",
    "- (비선형)   make_circle , make_moons : 원형 데이터 패턴, 초승달 데이터 패턴을 생성  - 비선형"
   ]
  },
  {
   "cell_type": "markdown",
   "id": "3eae81cf",
   "metadata": {},
   "source": [
    "### 분류 데이터 디폴트 값\n",
    "sklearn.datasets.make_classification(n_samples=100, n_features=20, *, n_informative=2, n_redundant=2, n_repeated=0, n_classes=2, n_clusters_per_class=2, weights=None, flip_y=0.01, class_sep=1.0, hypercube=True, shift=0.0, scale=1.0, shuffle=True, random_state=None)[source]\n",
    "- https://scikit-learn.org/stable/modules/generated/sklearn.datasets.make_classification.html#sklearn.datasets.make_classification"
   ]
  },
  {
   "cell_type": "code",
   "execution_count": 1,
   "id": "05864d6b",
   "metadata": {},
   "outputs": [],
   "source": [
    "# 1. 분류 데이터 생성 make_classification\n",
    "from sklearn.datasets import make_classification\n",
    "\n",
    "# 데이터 샘플은 전체 100개, 각 샘플에 대해 20개의 특성을 생성, 2개의 특성이 정보 제공, 2진 분류(다중분류 3, 4 ,,,)\n",
    "X, y = make_classification(n_samples=100, n_features=20, n_informative=2, n_classes=2)\n",
    "\n",
    "# X : 100개의 샘플과 각 샘플에 대한 20개의 특성을 가진 데이터셋(특성 행렬)을 생성 >>X.shape (100,20) 행렬 2차원\n",
    "# y : 각 샘플에 대한 클래스 레이블을 포함하는 벡터를 생성, 레이블은 0 또는 1 중 하나로 두 클래스 중 하나를 리턴한다.\n",
    "#     >> y.shape (100,) 벡터 1차원"
   ]
  },
  {
   "cell_type": "code",
   "execution_count": 6,
   "id": "99c121e2",
   "metadata": {},
   "outputs": [
    {
     "data": {
      "text/plain": [
       "(100, 20)"
      ]
     },
     "execution_count": 6,
     "metadata": {},
     "output_type": "execute_result"
    }
   ],
   "source": [
    "X\n",
    "X.shape"
   ]
  },
  {
   "cell_type": "code",
   "execution_count": 3,
   "id": "099d6404",
   "metadata": {},
   "outputs": [
    {
     "data": {
      "text/plain": [
       "(100,)"
      ]
     },
     "execution_count": 3,
     "metadata": {},
     "output_type": "execute_result"
    }
   ],
   "source": [
    "y\n",
    "y.shape"
   ]
  },
  {
   "cell_type": "markdown",
   "id": "ee0ed96b",
   "metadata": {},
   "source": [
    "### 회귀 데이터 디폴트 값\n",
    "sklearn.datasets.make_regression(n_samples=100, n_features=100, *, n_informative=10, n_targets=1, bias=0.0, effective_rank=None, tail_strength=0.5, noise=0.0, shuffle=True, coef=False, random_state=None)[source]  \n",
    "\n",
    "noise가 특징\n",
    "\n",
    "- https://scikit-learn.org/stable/modules/generated/sklearn.datasets.make_regression.html#sklearn.datasets.make_regression"
   ]
  },
  {
   "cell_type": "markdown",
   "id": "11f21f4b",
   "metadata": {},
   "source": [
    "#### 회귀 설명\n",
    "\"회귀(Regression)\"는 통계학과 머신러닝에서 사용되는 용어로, 변수 간의 관계를 분석하거나 예측하는 데 사용됩니다. 특히, 종속 변수와 하나 이상의 독립 변수 간의 관계를 모델링하고 이를 사용하여 새로운 데이터에 대한 값을 예측하는 작업을 말합니다.\n",
    "\n",
    "간단하게 설명하면:\n",
    "\n",
    "종속 변수(Dependent Variable):예측하고자 하는 대상 변수로, 다른 변수에 의해 영향을 받습니다.  \n",
    "독립 변수(Independent Variable):종속 변수에 영향을 주는 변수로, 종속 변수를 설명하거나 예측하는 데 사용됩니다.\n",
    "\n",
    "회귀 분석은 주어진 데이터로부터 독립 변수와 종속 변수 간의 관계를 모델링하여, 이를 사용해 새로운 독립 변수 값이 주어졌을 때 종속 변수의 값을 예측하는 데 활용됩니다. 회귀는 선형 회귀(Linear Regression) 및 비선형 회귀(Non-linear Regression)와 같이 여러 형태로 존재하며, 다양한 회귀 기법이 존재합니다.\n",
    "\n",
    "예를 들어, 집의 크기(독립 변수)와 집의 가격(종속 변수) 간의 관계를 모델링하여 새로운 집의 크기가 주어졌을 때 가격을 예측하는 것이 회귀 분석의 한 예입니다"
   ]
  },
  {
   "cell_type": "markdown",
   "id": "c4475d2f",
   "metadata": {},
   "source": [
    "### 데이터셋과 데이터포인트 설명\n",
    "\"데이터셋(Data Set)\"과 \"데이터 포인트(Data Point)\"은 비슷한 의미를 가지지만 약간의 차이가 있습니다.\n",
    "\n",
    "데이터셋(Data Set):데이터셋은 전체 데이터의 모음을 나타냅니다. 이 모음은 보통 여러 데이터 포인트로 구성되어 있습니다. 데이터셋은 일반적으로 표 형태로 구성되며, 각 행이 데이터 포인트에 해당하고 각 열이 변수(독립 변수 및 종속 변수)에 해당합니다. 데이터셋은 데이터를 수집하거나 저장하는 단위로 사용됩니다.\n",
    "\n",
    "데이터 포인트(Data Point):데이터 포인트는 데이터셋 내에서 개별적인 관측이나 기록을 나타냅니다. 각 데이터 포인트는 독립 변수와 종속 변수의 조합으로 이루어져 있습니다. 데이터 포인트는 데이터셋의 행에 해당합니다.\n",
    "\n",
    "\n",
    "간단히 말하면, 데이터셋은 여러 데이터 포인트의 모임이며, 각 데이터 포인트는 개별적인 관측이나 기록입니다. 하나의 데이터셋에는 여러 데이터 포인트가 포함되어 있을 수 있습니다."
   ]
  },
  {
   "cell_type": "markdown",
   "id": "567f39ed",
   "metadata": {},
   "source": [
    "### 데이터셋을 나타내는 몇가지 형태\n",
    "데이터셋 표현 중 몇 가지는 다음과 같습니다:\n",
    "\n",
    "Bunch:scikit-learn에서 제공하는 데이터셋은 Bunch 객체로 표현됩니다. Bunch는 딕셔너리와 유사한 형태로, 데이터셋의 여러 구성 요소를 편리하게 담아내는 역할을 합니다.\n",
    "\n",
    "DataFrame:pandas 라이브러리에서 제공하는 DataFrame은 표 형태로 정렬된 데이터셋을 나타내는 데 사용됩니다. 각 행은 데이터 포인트를 나타내고, 각 열은 변수(독립 변수 및 종속 변수)를 나타냅니다.\n",
    "\n",
    "Numpy 배열:Numpy 배열은 다차원 배열로 데이터셋을 표현할 수 있습니다. 주로 숫자 데이터를 다룰 때 사용되며, 각 행은 데이터 포인트를 나타내고, 각 열은 변수를 나타냅니다.\n",
    "\n",
    "리스트, 튜플 등:일반적인 파이썬 리스트나 튜플 등도 데이터셋을 표현하는 데 사용될 수 있습니다. 하지만 이러한 경우에는 데이터셋의 구조를 명시적으로 나타내기가 어려울 수 있습니다.\n",
    "\n",
    "이러한 다양한 객체들은 데이터셋의 특성, 크기, 용도 등에 따라 선택하여 사용할 수 있습니다."
   ]
  },
  {
   "cell_type": "code",
   "execution_count": 2,
   "id": "268ad77e",
   "metadata": {},
   "outputs": [],
   "source": [
    "# 2. 회귀 데이터 생성 make_regression\n",
    "from sklearn.datasets import make_regression\n",
    "\n",
    "# noise : 생성데이터의 추가되는 잡음의 양(=생성된 데이터의 잡음의 양을 추가), 적당하게 있을 때 예측값이 가장 좋음,\n",
    "#         [노이즈가 많아지면 모델 예측이 어렵고, 없으면 문제]\n",
    "#         y값이 noise랑 머랑해서 만들어진다? 오후 2시 44분\n",
    "#  ---> 데이터 복잡도 조절, 모델의 일반화평가(일반적인 평가 능력)\n",
    "\n",
    "X, y = make_regression(n_samples=100, n_features=1, noise=0.1)\n",
    "\n",
    "# X : 데이터셋에 샘플(데이터 포인트)가 100개 (데이터 샘플 수가 데이터 포인트 회귀니까), \n",
    "#     n_features=1를 사용해서 독립변수 1개, 100*1의 크기의 배열이 만들어 진다.\n",
    "# y : 각 샘플에 대한 연속적인 타켓 값(종속변수)를 생성 = 'X'의 특성과 잡음에 기반해서 생성"
   ]
  },
  {
   "cell_type": "code",
   "execution_count": 4,
   "id": "2bdeb03d",
   "metadata": {},
   "outputs": [
    {
     "data": {
      "text/plain": [
       "(100, 1)"
      ]
     },
     "execution_count": 4,
     "metadata": {},
     "output_type": "execute_result"
    }
   ],
   "source": [
    "X\n",
    "X.shape"
   ]
  },
  {
   "cell_type": "code",
   "execution_count": 19,
   "id": "21270895",
   "metadata": {},
   "outputs": [
    {
     "data": {
      "text/plain": [
       "(100,)"
      ]
     },
     "execution_count": 19,
     "metadata": {},
     "output_type": "execute_result"
    }
   ],
   "source": [
    "y\n",
    "y.shape"
   ]
  },
  {
   "cell_type": "markdown",
   "id": "3633d6b1",
   "metadata": {},
   "source": [
    "### 클러스터 데이터 디폴트 값\n",
    "sklearn.datasets.make_blobs(n_samples=100, n_features=2, *, centers=None, cluster_std=1.0, center_box=(-10.0, 10.0), shuffle=True, random_state=None, return_centers=False)[source]  \n",
    "- https://scikit-learn.org/stable/modules/generated/sklearn.datasets.make_blobs.html#sklearn.datasets.make_blobs"
   ]
  },
  {
   "cell_type": "code",
   "execution_count": 24,
   "id": "a3a7a544",
   "metadata": {},
   "outputs": [],
   "source": [
    "# 3. 클러스터 데이터 생성 make_blobs - 묶는 것, 무게 중심, 무작위 제어를 하겠다.\n",
    "from sklearn.datasets import make_blobs\n",
    "\n",
    "# 데이터 샘플은 100개, 클러스터 생성수는 3개, 각 샘플에 대해 2개의 특성 변수를 생성(2차원 공간의 데이터 포인트를 의미), \n",
    "# 데이터 생성 무작위 제어\n",
    "X, y = make_blobs(n_samples=100, centers=3, n_features=2, random_state=0)\n",
    "# X : 데이터셋에 샘플(데이터 포인트)가 100개, 각 샘플에 대한 2개의 특성을 가진 특성행렬  100*2의 배열이 된다.\n",
    "\n",
    "# y : 각 샘플이 속하는 클러스터의 레이블을 포함하는 배열을 생성,이 배열은 0 1 2 중(center가 3이니까) 하나의 값을 가진다.\n",
    "# 1번 구룹 0번 그룹 2번그룹으로 묶겠다 무게중심으로\n",
    "\n",
    "# K-평균 클러스터링, 계층적 클러스터링, DBSCAN 등"
   ]
  },
  {
   "cell_type": "code",
   "execution_count": 26,
   "id": "979c340e",
   "metadata": {},
   "outputs": [
    {
     "data": {
      "text/plain": [
       "(100, 2)"
      ]
     },
     "execution_count": 26,
     "metadata": {},
     "output_type": "execute_result"
    }
   ],
   "source": [
    "X\n",
    "X.shape"
   ]
  },
  {
   "cell_type": "code",
   "execution_count": 28,
   "id": "d545c076",
   "metadata": {},
   "outputs": [
    {
     "data": {
      "text/plain": [
       "(100,)"
      ]
     },
     "execution_count": 28,
     "metadata": {},
     "output_type": "execute_result"
    }
   ],
   "source": [
    "y\n",
    "y.shape"
   ]
  },
  {
   "cell_type": "markdown",
   "id": "aa801a5f",
   "metadata": {},
   "source": [
    "### 비선형 데이터 디폴트 값\n",
    "- sklearn.datasets.make_circles(n_samples=100, *, shuffle=True, noise=None, random_state=None, factor=0.8)[source]\n",
    "- https://scikit-learn.org/stable/modules/generated/sklearn.datasets.make_circles.html#sklearn.datasets.make_circles"
   ]
  },
  {
   "cell_type": "code",
   "execution_count": 30,
   "id": "60933770",
   "metadata": {},
   "outputs": [],
   "source": [
    "# 4. 비선형 데이터 생성 make_circle(원형 형태의 데이터 패턴), make_moons (초승달 형태의 데이터 패턴) \n",
    "#    괄호안에 매개인자 없다.\n",
    "from sklearn.datasets import make_circles, make_moons\n",
    "\n",
    "# noise=None : 잡음을 추가하면 데이터 포인트가 더 넓게 퍼진다. = 클러스터 경계가 모호하다.\n",
    "\n",
    "# shuffle=True : 샘플을 무작위로 섞겠다. 모델이 특정된 순서에 의존하지 않겠다.\n",
    "\n",
    "# 데이터 샘플 100개, 무작위로 섞어서, 두 원의 크기 비율을 지정 0.8로(=내부원과 외부원의 반지름 비율 (0~1) 사이의 값)\n",
    "X, y = make_circles(n_samples=100, shuffle=True, noise=None, random_state=None, factor=0.8)\n",
    "\n",
    "# 2차원 공간 좌표를 동일하게 만든다.\n",
    "# X : 데이터셋에 샘플(데이터 포인트) 100개, 샘플에 대한 기본 특성 2개 있어서 2차원 공간 좌표  100*2\n",
    "# y: 각 샘플이 속하는 클러스터의 레이블을 포함하는 배열을 생성,이 배열은 0 1 값 중 원형 클러스터 중 하나를 나타낸다.\n",
    "\n",
    "# 비선형은 머신보다는 딥에서 많이 쓴다.\n",
    "# 비선형 분류 알고리즘, 커널 기반 알고리즘(서포트 벡터 머신 커널 트릭 등), 신경망 등\n",
    "# 이 데이터셋은 원형 클러스터를 만들어서 하려고 하는 애인데 가만히 생각해보면 팩터로 가져다가 사용하고 있는데\n",
    "# 원형이다 보니 외부 내부가 있는데 \n",
    "# 데이터 셋은 두개의 원형 클래스가 서로 얽혀 있는 형태를 보여준다.\n",
    "# 단순 선형은 어렵다. 그래서 내부원 외부원 데이터들이 얽혀있다."
   ]
  },
  {
   "cell_type": "code",
   "execution_count": 31,
   "id": "589b9567",
   "metadata": {},
   "outputs": [
    {
     "data": {
      "text/plain": [
       "(100, 2)"
      ]
     },
     "execution_count": 31,
     "metadata": {},
     "output_type": "execute_result"
    }
   ],
   "source": [
    "X\n",
    "X.shape"
   ]
  },
  {
   "cell_type": "code",
   "execution_count": 32,
   "id": "b68406d0",
   "metadata": {},
   "outputs": [
    {
     "data": {
      "text/plain": [
       "(100,)"
      ]
     },
     "execution_count": 32,
     "metadata": {},
     "output_type": "execute_result"
    }
   ],
   "source": [
    "y\n",
    "y.shape"
   ]
  },
  {
   "cell_type": "markdown",
   "id": "bd0c8a59",
   "metadata": {},
   "source": [
    "- sklearn.datasets.make_moons(n_samples=100, *, shuffle=True, noise=None, random_state=None)[source]\n",
    "- https://scikit-learn.org/stable/modules/generated/sklearn.datasets.make_moons.html#sklearn.datasets.make_moons"
   ]
  },
  {
   "cell_type": "code",
   "execution_count": 34,
   "id": "dab63589",
   "metadata": {},
   "outputs": [],
   "source": [
    "from sklearn.datasets import make_circles, make_moons\n",
    "\n",
    "X, y = make_moons(n_samples=100, shuffle=True, noise=None, random_state=None)\n",
    "\n",
    "# circles랑 똑같은데 형태가 초승달 모양이다. 두개의 초승달 형태로 얽혀 있다.\n",
    "# 2차원 공간 좌표\n",
    "\n",
    "# 데이터 형태가 원형인지 초승달 모양인지에 따라 다른거다."
   ]
  },
  {
   "cell_type": "code",
   "execution_count": null,
   "id": "df0af3a8",
   "metadata": {},
   "outputs": [],
   "source": []
  },
  {
   "cell_type": "code",
   "execution_count": 35,
   "id": "5bb0d869",
   "metadata": {},
   "outputs": [
    {
     "data": {
      "text/plain": [
       "(100, 2)"
      ]
     },
     "execution_count": 35,
     "metadata": {},
     "output_type": "execute_result"
    }
   ],
   "source": [
    "X\n",
    "X.shape"
   ]
  },
  {
   "cell_type": "code",
   "execution_count": 36,
   "id": "e73bff9c",
   "metadata": {},
   "outputs": [
    {
     "data": {
      "text/plain": [
       "(100,)"
      ]
     },
     "execution_count": 36,
     "metadata": {},
     "output_type": "execute_result"
    }
   ],
   "source": [
    "y\n",
    "y.shape"
   ]
  },
  {
   "cell_type": "code",
   "execution_count": null,
   "id": "8eeef0f3",
   "metadata": {},
   "outputs": [],
   "source": [
    "# make 시리즈가 많지만 섹션은 이 4가지 밖에 없다."
   ]
  }
 ],
 "metadata": {
  "kernelspec": {
   "display_name": "Python 3 (ipykernel)",
   "language": "python",
   "name": "python3"
  },
  "language_info": {
   "codemirror_mode": {
    "name": "ipython",
    "version": 3
   },
   "file_extension": ".py",
   "mimetype": "text/x-python",
   "name": "python",
   "nbconvert_exporter": "python",
   "pygments_lexer": "ipython3",
   "version": "3.11.5"
  }
 },
 "nbformat": 4,
 "nbformat_minor": 5
}
