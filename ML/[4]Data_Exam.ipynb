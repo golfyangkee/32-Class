{
 "cells": [
  {
   "cell_type": "raw",
   "id": "3b42c859",
   "metadata": {},
   "source": [
    "1. 탐색적 데이터 분석(EDA) 실습\n",
    "\n",
    "  1)당뇨병 데이터셋의 각 특성(예: Glucose, BloodPressure, BMI 등)의 분포를 시각화하고 분석하자 \n",
    "  2)각 특성 간의 상관관계를 계산하고, 이를 히트맵으로 시각화하자 .\n",
    "  3)당뇨병 발병(Outcome)과 가장 상관관계가 높은 특성은 무엇인가?\n",
    "\n",
    "2. 데이터 전처리 및 정제 실습\n",
    " 1) BMI, 혈압, 글루코스 수치가 0인 데이터를 찾아 이를 처리하는 전략을 제시하고 적용하자\n",
    " 2) 결측치나 이상치가 있는지 확인하고, 적절한 방법으로 처리한다. \n",
    " 3) 모든 수치형 변수를 표준화하거나 정규화하는 작업을 수행한다\n",
    " \n",
    "3. 로지스틱 회귀 모델 학습 및 평가 실습\n",
    "\n",
    "  1) 로지스틱 회귀 모델을 사용하여 당뇨병 발병 여부를 예측하는 모델을 구축.\n",
    "  2)모델의 성능을 평가하기 위해 정확도, 정밀도, 재현율, F1 점수를 계산\n",
    "  3) ROC 곡선과 AUC 점수를 이용하여 모델 성능을 평가하고 해석.\n",
    "\n",
    "4. K-최근접 이웃(KNN) 모델 최적화 실습:\n",
    " 1) K-최근접 이웃 알고리즘을 사용하여 당뇨병 예측 모델을 구축\n",
    " 2) 교차 검증을 사용하여 최적의 'k' 값은?\n",
    " 3) 다른 분류 알고리즘과 비교하여 KNN 모델의 성능을 평가하자"
   ]
  },
  {
   "cell_type": "code",
   "execution_count": 1,
   "id": "14ed36c3",
   "metadata": {},
   "outputs": [],
   "source": [
    "import pandas as pd\n",
    "import seaborn as sns\n",
    "import matplotlib.pyplot as plt\n",
    "from sklearn.model_selection import train_test_split\n",
    "from sklearn.linear_model import LogisticRegression\n",
    "from sklearn.metrics import accuracy_score, precision_score, recall_score, f1_score, roc_curve, auc\n",
    "from sklearn.preprocessing import StandardScaler\n",
    "from sklearn.neighbors import KNeighborsClassifier\n",
    "from sklearn.model_selection import cross_val_score\n",
    "import numpy as np"
   ]
  },
  {
   "cell_type": "code",
   "execution_count": 2,
   "id": "5c1c4476",
   "metadata": {},
   "outputs": [
    {
     "name": "stdout",
     "output_type": "stream",
     "text": [
      "<class 'pandas.core.frame.DataFrame'>\n",
      "RangeIndex: 768 entries, 0 to 767\n",
      "Data columns (total 9 columns):\n",
      " #   Column                    Non-Null Count  Dtype  \n",
      "---  ------                    --------------  -----  \n",
      " 0   Pregnancies               768 non-null    int64  \n",
      " 1   Glucose                   768 non-null    int64  \n",
      " 2   BloodPressure             768 non-null    int64  \n",
      " 3   SkinThickness             768 non-null    int64  \n",
      " 4   Insulin                   768 non-null    int64  \n",
      " 5   BMI                       768 non-null    float64\n",
      " 6   DiabetesPedigreeFunction  768 non-null    float64\n",
      " 7   Age                       768 non-null    int64  \n",
      " 8   Outcome                   768 non-null    int64  \n",
      "dtypes: float64(2), int64(7)\n",
      "memory usage: 54.1 KB\n"
     ]
    }
   ],
   "source": [
    "import pandas as pd\n",
    "df = pd.read_csv('./data/diabetes.csv') # 당뇨병 데이터 셋  \n",
    "df.info()"
   ]
  },
  {
   "cell_type": "code",
   "execution_count": null,
   "id": "80cbae42",
   "metadata": {},
   "outputs": [],
   "source": []
  }
 ],
 "metadata": {
  "kernelspec": {
   "display_name": "Python 3 (ipykernel)",
   "language": "python",
   "name": "python3"
  },
  "language_info": {
   "codemirror_mode": {
    "name": "ipython",
    "version": 3
   },
   "file_extension": ".py",
   "mimetype": "text/x-python",
   "name": "python",
   "nbconvert_exporter": "python",
   "pygments_lexer": "ipython3",
   "version": "3.11.5"
  }
 },
 "nbformat": 4,
 "nbformat_minor": 5
}
