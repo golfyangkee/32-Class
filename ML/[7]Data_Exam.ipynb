{
 "cells": [
  {
   "cell_type": "markdown",
   "id": "887a2512",
   "metadata": {},
   "source": [
    "### [1] 차원 축소\n",
    "### - PCA(Principal Component Analysis) : 주성분 분석\n",
    "1) 차원 축소 알고리즘, 비지도 학습\n",
    "2) 이미지 데이터의 차원 축소, 자연언어 텍스트 의미 분석\n",
    "3) 원본 데이터의 정보 유실이 최소화 되도록 축소시킨다\n",
    "4) 데이터의 변동성(Variance)을 기반으로 축을 생성하여 축소하는 알고리즘이다  \n",
    "5) 이미지 분류 등의 분류 수행시 과적합을 방지하여 예측 성능 향상"
   ]
  },
  {
   "cell_type": "raw",
   "id": "757faefd",
   "metadata": {},
   "source": [
    "PCA = 복잡한 거 정보를 유지하면서 차원을 축소하는 것\n",
    "\n",
    "<< 주성분 분석의 기법 >>\n",
    "- 변동성(Variance) : 데이터가 가장 많이 퍼져있는 방향을 찾아낸다.\n",
    "\n",
    "- 축을 생성 : 주성분이라는 새로운 축을 생성, 원본의 X 특성값들을 선형 조합으로 만들고 각 축은 직교한다.\n",
    "             첫번째 주성분(축)는 데이터 분산을 두번째 주성분은 첫번째 주성분과 직교하는 방향으로 분산을 최대화\n",
    "             \n",
    "- 데이터의 차원 축소는 분산을 유지하면서 차원을 축소한다. \n",
    "\n",
    "- 시각화를 통해 2차원 3차원 축소 확인을 패턴 모형 확인으로 확인할 수 있다.\n",
    "\n",
    "=> 데이터 차원을 축소해서 시각화를 통해 축소된 데이터 분포도를 확인하기 위해\n",
    "PCA가 선형 관계로 구현을 하지만 비선형 데이터를 가져다가 PCA하면 제한사항이 있다.\n",
    "\n",
    "- PCA, t-SNE, UMAP 등 차원축소 알고리즘으로 이미지, 패턴인식 등에 함께 사용된다."
   ]
  },
  {
   "cell_type": "code",
   "execution_count": 3,
   "id": "d856280d",
   "metadata": {},
   "outputs": [
    {
     "name": "stdout",
     "output_type": "stream",
     "text": [
      "<class 'pandas.core.frame.DataFrame'>\n",
      "RangeIndex: 768 entries, 0 to 767\n",
      "Data columns (total 9 columns):\n",
      " #   Column                    Non-Null Count  Dtype  \n",
      "---  ------                    --------------  -----  \n",
      " 0   Pregnancies               768 non-null    int64  \n",
      " 1   Glucose                   768 non-null    int64  \n",
      " 2   BloodPressure             768 non-null    int64  \n",
      " 3   SkinThickness             768 non-null    int64  \n",
      " 4   Insulin                   768 non-null    int64  \n",
      " 5   BMI                       768 non-null    float64\n",
      " 6   DiabetesPedigreeFunction  768 non-null    float64\n",
      " 7   Age                       768 non-null    int64  \n",
      " 8   Outcome                   768 non-null    int64  \n",
      "dtypes: float64(2), int64(7)\n",
      "memory usage: 54.1 KB\n"
     ]
    }
   ],
   "source": [
    "import pandas as pd\n",
    "from sklearn.decomposition import PCA\n",
    "from sklearn.preprocessing import StandardScaler\n",
    "\n",
    "# 당뇨병 데이터셋 불러오기\n",
    "df = pd.read_csv(\"./data/diabetes.csv\")   # 주성분 분석을 해보자. -> 데이터 패턴을 확인하기 위해\n",
    "df.info()"
   ]
  },
  {
   "cell_type": "raw",
   "id": "c18806e4",
   "metadata": {},
   "source": [
    "<< 위 데이터의 주성분 구현 시 확인할 작업 >>\n",
    "\n",
    "1) 전처리: PCA는 수치형 데이터 적용, 만일 X가 범주형이면 수치형 변환 필요\n",
    "2) 결측값: 결측치가 없는 데이터만 적용, 결측치 있다면 행 제거 or 대체값 적용\n",
    "3) 표준화: 데이터 분산기반이라 표준화 필수, 데이터 표준화"
   ]
  },
  {
   "cell_type": "code",
   "execution_count": 10,
   "id": "bfad3a7f",
   "metadata": {},
   "outputs": [
    {
     "data": {
      "text/plain": [
       "array([[ 0.63994726,  0.84832379,  0.14964075, ...,  0.20401277,\n",
       "         0.46849198,  1.4259954 ],\n",
       "       [-0.84488505, -1.12339636, -0.16054575, ..., -0.68442195,\n",
       "        -0.36506078, -0.19067191],\n",
       "       [ 1.23388019,  1.94372388, -0.26394125, ..., -1.10325546,\n",
       "         0.60439732, -0.10558415],\n",
       "       ...,\n",
       "       [ 0.3429808 ,  0.00330087,  0.14964075, ..., -0.73518964,\n",
       "        -0.68519336, -0.27575966],\n",
       "       [-0.84488505,  0.1597866 , -0.47073225, ..., -0.24020459,\n",
       "        -0.37110101,  1.17073215],\n",
       "       [-0.84488505, -0.8730192 ,  0.04624525, ..., -0.20212881,\n",
       "        -0.47378505, -0.87137393]])"
      ]
     },
     "execution_count": 10,
     "metadata": {},
     "output_type": "execute_result"
    }
   ],
   "source": [
    "# 표준화 : 모든 변수를 동일한 스케일로 조정하겠다.\n",
    "X=df.drop('Outcome',axis=1) # y값을 주던 안 주던 결과에는 크게 상관 없다.\n",
    "scaler=StandardScaler()\n",
    "scaler_df=scaler.fit_transform(X) # 평균을 0, 표준편차 1\n",
    "scaler_df"
   ]
  },
  {
   "cell_type": "code",
   "execution_count": 11,
   "id": "19c48980",
   "metadata": {},
   "outputs": [
    {
     "data": {
      "text/plain": [
       "array([[ 1.06850273,  1.23489499],\n",
       "       [-1.12168331, -0.73385167],\n",
       "       [-0.39647671,  1.59587594],\n",
       "       ...,\n",
       "       [-0.28347525,  0.09706503],\n",
       "       [-1.06032431,  0.83706234],\n",
       "       [-0.83989172, -1.15175485]])"
      ]
     },
     "execution_count": 11,
     "metadata": {},
     "output_type": "execute_result"
    }
   ],
   "source": [
    "# PCA 적용 : 2개의 주성분만 사용하겠다.\n",
    "pca = PCA(n_components=2)  # 2차원으로 차원 축소하겠다.\n",
    "pca_result=pca.fit_transform(scaler_df)\n",
    "pca_result "
   ]
  },
  {
   "cell_type": "code",
   "execution_count": 7,
   "id": "c8717b2d",
   "metadata": {},
   "outputs": [
    {
     "data": {
      "text/html": [
       "<div>\n",
       "<style scoped>\n",
       "    .dataframe tbody tr th:only-of-type {\n",
       "        vertical-align: middle;\n",
       "    }\n",
       "\n",
       "    .dataframe tbody tr th {\n",
       "        vertical-align: top;\n",
       "    }\n",
       "\n",
       "    .dataframe thead th {\n",
       "        text-align: right;\n",
       "    }\n",
       "</style>\n",
       "<table border=\"1\" class=\"dataframe\">\n",
       "  <thead>\n",
       "    <tr style=\"text-align: right;\">\n",
       "      <th></th>\n",
       "      <th>PCA_1</th>\n",
       "      <th>PCA_2</th>\n",
       "    </tr>\n",
       "  </thead>\n",
       "  <tbody>\n",
       "    <tr>\n",
       "      <th>0</th>\n",
       "      <td>-1.756947</td>\n",
       "      <td>-1.111743</td>\n",
       "    </tr>\n",
       "    <tr>\n",
       "      <th>1</th>\n",
       "      <td>1.507421</td>\n",
       "      <td>0.559406</td>\n",
       "    </tr>\n",
       "    <tr>\n",
       "      <th>2</th>\n",
       "      <td>-0.650822</td>\n",
       "      <td>-1.929576</td>\n",
       "    </tr>\n",
       "    <tr>\n",
       "      <th>3</th>\n",
       "      <td>1.587398</td>\n",
       "      <td>1.065075</td>\n",
       "    </tr>\n",
       "    <tr>\n",
       "      <th>4</th>\n",
       "      <td>-2.483374</td>\n",
       "      <td>2.359563</td>\n",
       "    </tr>\n",
       "  </tbody>\n",
       "</table>\n",
       "</div>"
      ],
      "text/plain": [
       "      PCA_1     PCA_2\n",
       "0 -1.756947 -1.111743\n",
       "1  1.507421  0.559406\n",
       "2 -0.650822 -1.929576\n",
       "3  1.587398  1.065075\n",
       "4 -2.483374  2.359563"
      ]
     },
     "execution_count": 7,
     "metadata": {},
     "output_type": "execute_result"
    }
   ],
   "source": [
    "# pca를 데이터 프레임으로 변환해서 확인 하자\n",
    "pca_df=pd.DataFrame(data=pca_result, columns=['PCA_1', 'PCA_2']) # 데이터 y값은 빼야 한다. 무조건 X만 가지고 온다. 비지도 학습\n",
    "pca_df.head()\n",
    "# 좌표가 되어 시각화를 할 수 있다."
   ]
  },
  {
   "cell_type": "raw",
   "id": "948138b2",
   "metadata": {},
   "source": [
    ": 2차원 공간의 좌표로 보여주는 것\n",
    ": 0열 = PCA_1 첫번째 주성분 : 데이터의 가장 큰 분산 방향 : 패턴확인 -> 변동성의 값을 양, 음으로 표현(값이 클 수록 주성분에 따라 양의 변동성이 있다.)\n",
    ": 1열 = PCA_1과 직교방향의 분산 (직교: 무상관이다.)\n",
    "\n",
    "<<\t-1.756947\t-1.111743 1행 해석 >>\n",
    ": 주성분의 따라서 해당 샘플이 평균보다 낮다 높다 판단하는 데\n",
    ": 1열은 - - 니까 해당 샘플이 평균보다 낮다.라고 판단하고\n",
    "\n",
    "<< 1.507421\t0.559406 2행 해석 >>\n",
    ": 첫번째 주성분에 대해서 평균보다 높고 두번째 주성분은 평균보다 중간 정도이다.\n",
    "\n",
    "<< \t-0.650822\t-1.929576 3행 해석 >>\n",
    ": - - 니까 평균보다 낮다.\n",
    "\n",
    "<< 1.587398\t1.065075 4행 해석 >>\n",
    ": + + 둘다 양의 값이니까 첫번째 주성분이 나머지 애들보다 높다.\n",
    "\n",
    "<< -2.483374\t2.359563 5행 해석 >>\n",
    ": - + 니까 더하기 빼기를 했을 때 큰 변동성은 없다고 판단한다.\n",
    "\n",
    "==> 산점도로 확인하기\n",
    "\n",
    "가장 큰 양의 변동성, 가장 큰 음의 변동성을 찾아보면\n",
    "5행이 가장 큰 변동성(데이터가 가장 크고 가장 작은거를 가지고 있으니까)\n",
    "\n",
    "pca를 보고 알아야 하는것\n",
    "<< 위 내용의 결과 분석 >>\n",
    "1) 데이터 변동성 : 음과 양의 변동성 확인 \n",
    "\n",
    "2) 샘플의 분포 : 이상치일 가능성이 있다를 판단할 수 있다. (만약, 위에서 전처리기를 하고 왔다면 이 샘플 자체를 언제 쓸 수 있냐면 샘플들의 비슷한 특성을 가지고 있는 곳이 가장 이 차가 적은 애들, 애들을 절대값으로 계산을 했을때 가장 적게 연산되는 애들이 가장 비슷한 특성을 가지고 있다고 생각한다.), \n",
    "            데이터 주성분 축의 값으로 분포도를 확인\n",
    "            \n",
    "3) 다차원 공간일 경우 분포도가 커진다. : 분포도 영향 확인 값이 확연하다. \n",
    "\n",
    "=> 여기서는 약한 상관관계가 강한 상관관계다 이상치다 이런 것들은 실제 눈에 들어오지 않지만 PCA 주성분을 했을 때 속성 확인을 할 수 있어. 원본 특성하고 주성분 특성과의 얼마나 상관 관계가 발생하는 지 분석하는 수치가 있다.  즉, pca 속성 확인하자.\n",
    "\n",
    "https://scikit-learn.org/stable/modules/classes.html#module-sklearn.decomposition\n",
    "https://scikit-learn.org/stable/modules/generated/sklearn.decomposition.PCA.html#sklearn.decomposition.PCA"
   ]
  },
  {
   "cell_type": "code",
   "execution_count": 12,
   "id": "ed35756b",
   "metadata": {},
   "outputs": [
    {
     "name": "stdout",
     "output_type": "stream",
     "text": [
      "[[ 0.1284321   0.39308257  0.36000261  0.43982428  0.43502617  0.45194134\n",
      "   0.27061144  0.19802707]\n",
      " [ 0.59378583  0.17402908  0.18389207 -0.33196534 -0.25078106 -0.1009598\n",
      "  -0.122069    0.62058853]]\n",
      "[2.09711056 1.73346726]\n",
      "[0.26179749 0.21640127]\n",
      "[40.10590727 36.4632608 ]\n",
      "[-6.47630098e-17 -9.25185854e-18  1.50342701e-17  1.00613962e-16\n",
      " -3.00685403e-17  2.59052039e-16  2.45174251e-16  1.93132547e-16]\n",
      "2\n",
      "768\n",
      "0.696642071712788\n",
      "8\n"
     ]
    }
   ],
   "source": [
    "# 각 PCA 객체의 속성값을 출력 해보자.\n",
    "print(pca.components_)                # 주성분 벡터 방향\n",
    "print(pca.explained_variance_)        # 분산의 양\n",
    "print(pca.explained_variance_ratio_)  # 전체 분산에서 각 주성분이 차지하는 비율, 비율의 합이 1\n",
    "print(pca.singular_values_)           # 주성분 특이값: SVD : 주성분에 데이터 투영했을 때 스케일\n",
    "print(pca.mean_)                      # 평균 [42.50554339 36.91438259]\n",
    "print(pca.n_components_)              # 주성분 수\n",
    "print(pca.n_samples_)                 # 원본 데이터의 샘플 수\n",
    "print(pca.noise_variance_)            \n",
    "# 잡음, 분산값, 데이터 일부를 분산하고 싶을 때(분류(라벨로), 사각형(오브젝트 디텍션: 바운드 박스), 분리(세그멘테이션: 전경 배경 분리 ))\n",
    "print(pca.n_features_in_)\n",
    "# print(pca.feature_names_in_) # 오류\n",
    "\n",
    "# 특성이 10개 이상이면 y를 제거하고 X값만 가져다가 PCA 2개로 하고"
   ]
  },
  {
   "cell_type": "code",
   "execution_count": null,
   "id": "68afde58",
   "metadata": {},
   "outputs": [],
   "source": []
  },
  {
   "cell_type": "code",
   "execution_count": null,
   "id": "01a808dd",
   "metadata": {},
   "outputs": [],
   "source": []
  },
  {
   "cell_type": "code",
   "execution_count": null,
   "id": "6e7b9e3c",
   "metadata": {},
   "outputs": [],
   "source": []
  },
  {
   "cell_type": "code",
   "execution_count": null,
   "id": "59ab1bb4",
   "metadata": {},
   "outputs": [],
   "source": []
  },
  {
   "cell_type": "code",
   "execution_count": null,
   "id": "afe8e71b",
   "metadata": {},
   "outputs": [],
   "source": []
  },
  {
   "cell_type": "code",
   "execution_count": null,
   "id": "599e3949",
   "metadata": {},
   "outputs": [],
   "source": []
  }
 ],
 "metadata": {
  "kernelspec": {
   "display_name": "Python 3 (ipykernel)",
   "language": "python",
   "name": "python3"
  },
  "language_info": {
   "codemirror_mode": {
    "name": "ipython",
    "version": 3
   },
   "file_extension": ".py",
   "mimetype": "text/x-python",
   "name": "python",
   "nbconvert_exporter": "python",
   "pygments_lexer": "ipython3",
   "version": "3.11.5"
  }
 },
 "nbformat": 4,
 "nbformat_minor": 5
}
