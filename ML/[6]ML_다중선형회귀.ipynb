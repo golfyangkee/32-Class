{
 "cells": [
  {
   "cell_type": "raw",
   "id": "260f34bc",
   "metadata": {},
   "source": [
    "<< 회귀 = 타겟의 평균값(NaN)   , 분류 = 타겟의 최빈값 ,  시계열 = 이전데이터를 기준점, 동일데이터  >> \n",
    "<< X가 여러개 즉 특징값이 여러개를 가진  다중선형회귀의 로직을 살펴 보고 사이킷런의 알고리즘과 비교 >> "
   ]
  },
  {
   "cell_type": "code",
   "execution_count": 1,
   "id": "cde3b4bf",
   "metadata": {},
   "outputs": [],
   "source": [
    "import matplotlib.pyplot as plt\n",
    "import matplotlib\n",
    "\n",
    "plt.rc(\"font\", family=\"malgun gothic\")\n",
    "matplotlib.rcParams[\"axes.unicode_minus\"]=False\n",
    "%config InlineBackend.figure_format=\"retina\"\n",
    "\n",
    "import numpy as np"
   ]
  },
  {
   "cell_type": "code",
   "execution_count": 2,
   "id": "92aa278a",
   "metadata": {},
   "outputs": [
    {
     "name": "stdout",
     "output_type": "stream",
     "text": [
      "0.5910509795491357\n"
     ]
    },
    {
     "data": {
      "text/plain": [
       "array([4.526, 3.585, 3.521, ..., 0.923, 0.847, 0.894])"
      ]
     },
     "execution_count": 2,
     "metadata": {},
     "output_type": "execute_result"
    }
   ],
   "source": [
    "# Q1 : 캘리포니아 집값에 대하여 회귀 분석을 하고 평가를 수행해 보세요.\n",
    "\n",
    "from sklearn.datasets import fetch_california_housing\n",
    "from sklearn.model_selection import train_test_split\n",
    "from sklearn.linear_model import LinearRegression\n",
    "\n",
    "# step 1. 데이터 준비\n",
    "housing = fetch_california_housing()\n",
    "x = housing[\"data\"]   # 독립 변수\n",
    "y = housing[\"target\"] # 종속 변수(집값)\n",
    "\n",
    "\n",
    "# step 2. 학습 데이터와 검증 데이터로 분리\n",
    "x_train, x_test, y_train, y_test = train_test_split(x, y, random_state=42)\n",
    "\n",
    "# step 3. 모델 생성\n",
    "model = LinearRegression()\n",
    "\n",
    "# step 4. 학습\n",
    "model.fit(x_train, y_train)\n",
    "\n",
    "# step 5. 평가\n",
    "print(model.score(x_test, y_test))\n",
    "y"
   ]
  },
  {
   "cell_type": "markdown",
   "id": "84930829",
   "metadata": {},
   "source": [
    "하니까 수치가 이상하니 train_test_split이 이상한거 같으니  \n",
    "### 특성값 조절 -> 모델 파라미터 조정 -> 모델 변경 -> 데이터 스케일링 (표준화, 정규화) -> 교차 검증 -> 정규화 적용(라쏘, 리쥐)\n",
    "- 파라미터나 모델 변경 시 주의 점: 교차검증까지 해서 해야 한다. 다 해보고 모델 변경 해야 한다. 모델을 변경하는 게 왜 애매모호 하냐면 앞에 테스트 작업 할 때 이런 모델을 이런 데이터를 기준을 하고 설계를 해서 왔기에 모델 선택 자체를 신중하게 해야 한다."
   ]
  },
  {
   "cell_type": "code",
   "execution_count": null,
   "id": "c9eeb423",
   "metadata": {},
   "outputs": [],
   "source": []
  }
 ],
 "metadata": {
  "kernelspec": {
   "display_name": "Python 3 (ipykernel)",
   "language": "python",
   "name": "python3"
  },
  "language_info": {
   "codemirror_mode": {
    "name": "ipython",
    "version": 3
   },
   "file_extension": ".py",
   "mimetype": "text/x-python",
   "name": "python",
   "nbconvert_exporter": "python",
   "pygments_lexer": "ipython3",
   "version": "3.11.5"
  }
 },
 "nbformat": 4,
 "nbformat_minor": 5
}
