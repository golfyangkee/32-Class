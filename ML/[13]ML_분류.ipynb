{
 "cells": [
  {
   "cell_type": "raw",
   "id": "50da2d01",
   "metadata": {},
   "source": [
    "1) 분류  : 모델 평가  from sklearn.metrics import accuracy_score\n",
    "\n",
    "2) 분류의 종류\n",
    " 로지스틱 회귀 , SVC(이중분류 이상 다중분류 때 많이 사용, 비선형도 할 수 있고 선형도 할 수 있다., 선형 분류 가능), 선형SVC, 결정 나무, 랜덤 포레스트, KNeighbors 분류자\n",
    " 나이브 베이즈(ML), GradientBoostingClassifier, 확률적 경사하강법(SGD, 최적의 기울기로 최적화)\n",
    " \n",
    "- SVC(DL), 선형 SVC(ML), SGD(확률적 경사 하강법) 은 한세트로 이 셋 중 하나 쓰면 다른 거는 안 쓴다.\n",
    "- 선형 SVC, 나이브 베이즈, GradientBoostingClassifier 은 한 세트\n",
    "- GradientBoostingClassifier 는 결정나무, 랜덤 포레스트 결합해서 병합시켜 버린거?\n",
    "- XGboost\n",
    "- AdaBoost : 약한 학습기 결합한 거, 이진분류, 실행이 빠름, 데이터불균형에 민감하다, 잡음이 많거나 이상치가 있는 데이터는 모델 자체가 과적합을 만듦,  \n",
    "근데 이미지 영상 텍스트 이런거는 잡음이 많을 수 밖에 없다. 그러면 과적합 일으킬 확률이 많으니 AdaBoost 잘 안 씀, 이진 일때만 선호  \n",
    "나머지는 XGboost 나 GradientBoostingClassifier 이거 씀 더 강력. 요새는 이 두개로 쓴다. 2014년 후반에 나온거"
   ]
  },
  {
   "cell_type": "markdown",
   "id": "023a7fa9",
   "metadata": {},
   "source": [
    "<img src=\"img/분류기.png\">"
   ]
  },
  {
   "cell_type": "code",
   "execution_count": 1,
   "id": "ced5dba0",
   "metadata": {},
   "outputs": [],
   "source": [
    "from sklearn import datasets \n",
    "from sklearn.model_selection import train_test_split\n",
    "from sklearn import metrics \n",
    "from sklearn.naive_bayes import GaussianNB \n",
    "from sklearn.metrics import accuracy_score\n",
    "\n",
    "import warnings\n",
    "warnings.filterwarnings('ignore')\n",
    "\n",
    "#1. 데이터로드  \n",
    "iris = datasets.load_iris()\n",
    "\n",
    "#2. data, target\n",
    "X= iris.data\n",
    "y= iris.target\n",
    "\n",
    "#3. split\n",
    "train_X, val_X, train_y,val_y = train_test_split(X,y, random_state=0)"
   ]
  },
  {
   "cell_type": "code",
   "execution_count": 2,
   "id": "b43d6a32",
   "metadata": {},
   "outputs": [
    {
     "name": "stdout",
     "output_type": "stream",
     "text": [
      "[2 1 0 2 0 2 0 1 1 1 2 1 1 1 1 0 1 1 0 0 2 1 0 0 2 0 0 1 1 0 2 1 0 2 2 1 0\n",
      " 2]\n"
     ]
    },
    {
     "data": {
      "text/plain": [
       "0.9736842105263158"
      ]
     },
     "execution_count": 2,
     "metadata": {},
     "output_type": "execute_result"
    }
   ],
   "source": [
    "#1) 로지스틱 회귀\n",
    "from sklearn.linear_model import LogisticRegression \n",
    "logreg = LogisticRegression()\n",
    "logreg.fit(train_X, train_y)\n",
    "pred = logreg.predict(val_X)\n",
    "print(pred)\n",
    "accuracy_score(pred, val_y)"
   ]
  },
  {
   "cell_type": "code",
   "execution_count": 3,
   "id": "3b008715",
   "metadata": {},
   "outputs": [
    {
     "name": "stdout",
     "output_type": "stream",
     "text": [
      "[2 1 0 2 0 2 0 1 1 1 2 1 1 1 1 0 1 1 0 0 2 1 0 0 2 0 0 1 1 0 2 1 0 2 2 1 0\n",
      " 2]\n"
     ]
    },
    {
     "data": {
      "text/plain": [
       "0.9736842105263158"
      ]
     },
     "execution_count": 3,
     "metadata": {},
     "output_type": "execute_result"
    }
   ],
   "source": [
    "# 2)SVC 차원은 많거나 정밀도가 높다 단, 학습량이 늘어나면 계산량이 늘어나서 스케일링이 필요하다.  \n",
    "from sklearn.svm import SVC  # 비선형   \n",
    " \n",
    "svc = SVC()\n",
    "svc.fit(train_X, train_y)\n",
    "pred = svc.predict(val_X)\n",
    "print(pred)\n",
    "accuracy_score(pred, val_y)"
   ]
  },
  {
   "cell_type": "code",
   "execution_count": 4,
   "id": "008cda97",
   "metadata": {},
   "outputs": [
    {
     "name": "stdout",
     "output_type": "stream",
     "text": [
      "[2 1 0 2 0 2 0 1 1 1 2 1 1 1 1 0 1 1 0 0 2 2 0 0 2 0 0 1 1 0 2 2 0 2 2 1 0\n",
      " 2]\n"
     ]
    },
    {
     "data": {
      "text/plain": [
       "0.9210526315789473"
      ]
     },
     "execution_count": 4,
     "metadata": {},
     "output_type": "execute_result"
    }
   ],
   "source": [
    "#3) 선형SVC\n",
    "from sklearn.svm import LinearSVC\n",
    " \n",
    "linear_svc = LinearSVC()\n",
    "linear_svc.fit(train_X, train_y)\n",
    "pred = linear_svc.predict(val_X)\n",
    "print(pred)\n",
    "accuracy_score(pred, val_y)"
   ]
  },
  {
   "cell_type": "code",
   "execution_count": 5,
   "id": "c2f6ed8a",
   "metadata": {},
   "outputs": [
    {
     "name": "stdout",
     "output_type": "stream",
     "text": [
      "[2 1 0 2 0 2 0 1 1 1 2 1 1 1 1 0 1 1 0 0 2 1 0 0 2 0 0 1 1 0 2 1 0 2 2 1 0\n",
      " 2]\n"
     ]
    },
    {
     "data": {
      "text/plain": [
       "0.9736842105263158"
      ]
     },
     "execution_count": 5,
     "metadata": {},
     "output_type": "execute_result"
    }
   ],
   "source": [
    "#4) 결정나무\n",
    "from sklearn.tree import DecisionTreeClassifier\n",
    " \n",
    "decisiontree = DecisionTreeClassifier()\n",
    "decisiontree.fit(train_X, train_y)\n",
    "pred = decisiontree.predict(val_X)\n",
    "print(pred)\n",
    "accuracy_score(pred, val_y)"
   ]
  },
  {
   "cell_type": "code",
   "execution_count": 6,
   "id": "1ad302bf",
   "metadata": {},
   "outputs": [
    {
     "name": "stdout",
     "output_type": "stream",
     "text": [
      "[2 1 0 2 0 2 0 1 1 1 2 1 1 1 1 0 1 1 0 0 2 1 0 0 2 0 0 1 1 0 2 1 0 2 2 1 0\n",
      " 2]\n"
     ]
    },
    {
     "data": {
      "text/plain": [
       "0.9736842105263158"
      ]
     },
     "execution_count": 6,
     "metadata": {},
     "output_type": "execute_result"
    }
   ],
   "source": [
    "#5) 랜덤 포레스트\n",
    "from sklearn.ensemble import RandomForestClassifier\n",
    " \n",
    "randomforest = RandomForestClassifier()\n",
    "randomforest.fit(train_X, train_y)\n",
    "pred = randomforest.predict(val_X)\n",
    "print(pred)\n",
    "accuracy_score(pred, val_y)"
   ]
  },
  {
   "cell_type": "code",
   "execution_count": 7,
   "id": "7f72124d",
   "metadata": {},
   "outputs": [
    {
     "name": "stdout",
     "output_type": "stream",
     "text": [
      "[2 1 0 2 0 2 0 1 1 1 2 1 1 1 1 0 1 1 0 0 2 1 0 0 2 0 0 1 1 0 2 1 0 2 2 1 0\n",
      " 2]\n"
     ]
    },
    {
     "data": {
      "text/plain": [
       "0.9736842105263158"
      ]
     },
     "execution_count": 7,
     "metadata": {},
     "output_type": "execute_result"
    }
   ],
   "source": [
    "#6) KNeighbors 분류자\n",
    "from sklearn.neighbors import KNeighborsClassifier\n",
    " \n",
    "knn = KNeighborsClassifier()\n",
    "knn.fit(train_X, train_y)\n",
    "pred = knn.predict(val_X)\n",
    "print(pred)\n",
    "accuracy_score(pred, val_y)"
   ]
  },
  {
   "cell_type": "code",
   "execution_count": 8,
   "id": "e0731286",
   "metadata": {},
   "outputs": [
    {
     "name": "stdout",
     "output_type": "stream",
     "text": [
      "[2 1 0 2 0 2 0 1 1 1 2 1 1 1 1 0 1 1 0 0 2 1 0 0 2 0 0 1 1 0 2 1 0 2 2 1 0\n",
      " 1]\n"
     ]
    },
    {
     "data": {
      "text/plain": [
       "1.0"
      ]
     },
     "execution_count": 8,
     "metadata": {},
     "output_type": "execute_result"
    }
   ],
   "source": [
    "#7) 나이브 베이즈\n",
    "from sklearn.naive_bayes import GaussianNB\n",
    " \n",
    "gaussian = GaussianNB()\n",
    "gaussian.fit(train_X, train_y)\n",
    "pred = gaussian.predict(val_X)\n",
    "print(pred)\n",
    "accuracy_score(pred, val_y)"
   ]
  },
  {
   "cell_type": "code",
   "execution_count": 9,
   "id": "ca86b0e3",
   "metadata": {},
   "outputs": [
    {
     "name": "stdout",
     "output_type": "stream",
     "text": [
      "[2 1 0 2 0 2 0 1 1 1 2 1 1 1 1 0 1 1 0 0 2 1 0 0 2 0 0 1 1 0 2 1 0 2 2 1 0\n",
      " 2]\n"
     ]
    },
    {
     "data": {
      "text/plain": [
       "0.9736842105263158"
      ]
     },
     "execution_count": 9,
     "metadata": {},
     "output_type": "execute_result"
    }
   ],
   "source": [
    "#8)  GradientBoostingClassifier\n",
    "from sklearn.ensemble import GradientBoostingClassifier\n",
    " \n",
    "gbk = GradientBoostingClassifier()\n",
    "gbk.fit(train_X, train_y)\n",
    "pred = gbk.predict(val_X)\n",
    "print(pred)\n",
    "accuracy_score(pred, val_y)"
   ]
  },
  {
   "cell_type": "code",
   "execution_count": 10,
   "id": "7910d6ab",
   "metadata": {},
   "outputs": [
    {
     "name": "stdout",
     "output_type": "stream",
     "text": [
      "[2 2 0 2 0 2 0 2 2 2 2 2 2 2 2 0 2 2 0 0 2 2 0 0 2 0 0 2 2 0 2 2 0 2 2 2 0\n",
      " 2]\n"
     ]
    },
    {
     "data": {
      "text/plain": [
       "0.5789473684210527"
      ]
     },
     "execution_count": 10,
     "metadata": {},
     "output_type": "execute_result"
    }
   ],
   "source": [
    "#9) 확률적 경사하강법\n",
    "from sklearn.linear_model import SGDClassifier  # 머신에서 잘 안 씀\n",
    "sgd = SGDClassifier()\n",
    "sgd.fit(train_X, train_y)\n",
    "pred = sgd.predict(val_X)\n",
    "print(pred)\n",
    "accuracy_score(pred, val_y)"
   ]
  },
  {
   "cell_type": "markdown",
   "id": "81410350",
   "metadata": {},
   "source": [
    "아니면 [4] 로 all_estimator로 해도 된다."
   ]
  }
 ],
 "metadata": {
  "kernelspec": {
   "display_name": "Python 3 (ipykernel)",
   "language": "python",
   "name": "python3"
  },
  "language_info": {
   "codemirror_mode": {
    "name": "ipython",
    "version": 3
   },
   "file_extension": ".py",
   "mimetype": "text/x-python",
   "name": "python",
   "nbconvert_exporter": "python",
   "pygments_lexer": "ipython3",
   "version": "3.11.5"
  }
 },
 "nbformat": 4,
 "nbformat_minor": 5
}
