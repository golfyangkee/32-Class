{
 "cells": [
  {
   "cell_type": "markdown",
   "id": "ab851c91",
   "metadata": {},
   "source": [
    "### sys \n",
    "- 파이썬의 내장 모듈 중 하나로, 시스템과 관련된 함수 및 변수들을 제공합니다. 이 모듈은 파이썬 인터프리터가 실행 중인 환경과 상호 작용하고 시스템 수준의 작업을 수행하는 데 사용됩니다.\n",
    "- sys 모듈은 시스템 수준의 작업을 수행할 때 유용하게 사용되며, 특히 명령 행 인수 처리나 프로그램 종료 등과 같은 기능을 제공합니다.\n",
    "- sys.argv를 통해 프로그램을 실행할 때 전달된 명령 행 인수에 접근\n",
    "- sys.exit() 함수를 사용하여 프로그램을 강제로 종료\n",
    "- sys.stdout, sys.stderr, sys.stdin 등을 통해 표준 출력, 표준 에러, 표준 입력에 접근\n",
    "- sys.version 및 sys.platform을 사용하여 파이썬 버전 및 실행 중인 시스템의 플랫폼 정보에 접근"
   ]
  },
  {
   "cell_type": "code",
   "execution_count": 1,
   "id": "d002087e",
   "metadata": {},
   "outputs": [],
   "source": [
    "import sys"
   ]
  },
  {
   "cell_type": "code",
   "execution_count": 2,
   "id": "75ab68ab",
   "metadata": {},
   "outputs": [
    {
     "data": {
      "text/plain": [
       "'3.11.5 | packaged by Anaconda, Inc. | (main, Sep 11 2023, 13:26:23) [MSC v.1916 64 bit (AMD64)]'"
      ]
     },
     "execution_count": 2,
     "metadata": {},
     "output_type": "execute_result"
    }
   ],
   "source": [
    "#버전을 확인\n",
    "sys.version"
   ]
  },
  {
   "cell_type": "code",
   "execution_count": 3,
   "id": "2c65be87",
   "metadata": {},
   "outputs": [
    {
     "name": "stdout",
     "output_type": "stream",
     "text": [
      "['__breakpointhook__', '__displayhook__', '__doc__', '__excepthook__', '__interactivehook__', '__loader__', '__name__', '__package__', '__spec__', '__stderr__', '__stdin__', '__stdout__', '__unraisablehook__', '_base_executable', '_clear_type_cache', '_current_exceptions', '_current_frames', '_debugmallocstats', '_enablelegacywindowsfsencoding', '_framework', '_getframe', '_getquickenedcount', '_git', '_home', '_stdlib_dir', '_vpath', '_xoptions', 'addaudithook', 'api_version', 'argv', 'audit', 'base_exec_prefix', 'base_prefix', 'breakpointhook', 'builtin_module_names', 'byteorder', 'call_tracing', 'copyright', 'displayhook', 'dllhandle', 'dont_write_bytecode', 'exc_info', 'excepthook', 'exception', 'exec_prefix', 'executable', 'exit', 'flags', 'float_info', 'float_repr_style', 'get_asyncgen_hooks', 'get_coroutine_origin_tracking_depth', 'get_int_max_str_digits', 'getallocatedblocks', 'getdefaultencoding', 'getfilesystemencodeerrors', 'getfilesystemencoding', 'getprofile', 'getrecursionlimit', 'getrefcount', 'getsizeof', 'getswitchinterval', 'gettrace', 'getwindowsversion', 'hash_info', 'hexversion', 'implementation', 'int_info', 'intern', 'is_finalizing', 'maxsize', 'maxunicode', 'meta_path', 'modules', 'orig_argv', 'path', 'path_hooks', 'path_importer_cache', 'platform', 'platlibdir', 'prefix', 'ps1', 'ps2', 'ps3', 'pycache_prefix', 'set_asyncgen_hooks', 'set_coroutine_origin_tracking_depth', 'set_int_max_str_digits', 'setprofile', 'setrecursionlimit', 'setswitchinterval', 'settrace', 'stderr', 'stdin', 'stdlib_module_names', 'stdout', 'thread_info', 'unraisablehook', 'version', 'version_info', 'warnoptions', 'winver']\n"
     ]
    }
   ],
   "source": [
    "print(dir(sys))"
   ]
  },
  {
   "cell_type": "code",
   "execution_count": 5,
   "id": "56155bbd",
   "metadata": {},
   "outputs": [
    {
     "data": {
      "text/plain": [
       "sys.version_info(major=3, minor=11, micro=5, releaselevel='final', serial=0)"
      ]
     },
     "execution_count": 5,
     "metadata": {},
     "output_type": "execute_result"
    }
   ],
   "source": [
    "sys.version_info"
   ]
  },
  {
   "cell_type": "code",
   "execution_count": 6,
   "id": "b609d18c",
   "metadata": {},
   "outputs": [
    {
     "name": "stdout",
     "output_type": "stream",
     "text": [
      "1\n"
     ]
    },
    {
     "ename": "SystemExit",
     "evalue": "",
     "output_type": "error",
     "traceback": [
      "An exception has occurred, use %tb to see the full traceback.\n",
      "\u001b[1;31mSystemExit\u001b[0m\n"
     ]
    },
    {
     "name": "stderr",
     "output_type": "stream",
     "text": [
      "C:\\ProgramData\\anaconda3\\Lib\\site-packages\\IPython\\core\\interactiveshell.py:3534: UserWarning: To exit: use 'exit', 'quit', or Ctrl-D.\n",
      "  warn(\"To exit: use 'exit', 'quit', or Ctrl-D.\", stacklevel=1)\n"
     ]
    }
   ],
   "source": [
    "print(\"1\")\n",
    "sys.exit() # 함수를 사용하여 프로그램을 강제로 종료\n",
    "print(\"2\")\n",
    "print(\"3\")"
   ]
  },
  {
   "cell_type": "markdown",
   "id": "bc4d65b7",
   "metadata": {},
   "source": [
    "### os\n",
    "- 파이썬의 내장 모듈 중 하나로, 운영 체제와 상호 작용하기 위한 함수들을 제공합니다. \"os\"는 \"Operating System\"의 약어입니다. 이 모듈은 파일 시스템 조작, 환경 변수 접근, 디렉터리 및 파일 경로 다루기, 프로세스 관리 등과 같은 운영 체제 수준의 작업을 수행할 수 있는 함수들을 제공합니다.\n",
    "- 다양한 운영 체제 관련 작업을 수행할 수 있어, 크로스 플랫폼 환경에서 유용하게 활용됩니다.\n",
    "\n",
    "디렉터리 및 파일 관련 함수:  \n",
    "os.getcwd(): 현재 작업 디렉터리의 경로를 반환합니다.  \n",
    "os.chdir(path): 작업 디렉터리를 변경합니다.  \n",
    "os.listdir(path): 지정된 디렉터리의 파일 및 디렉터리 목록을 반환합니다.  \n",
    "os.mkdir(path): 새 디렉터리를 생성합니다.  \n",
    "os.remove(path): 파일을 삭제합니다.  \n",
    "os.rmdir(path): 디렉터리를 삭제합니다.  \n",
    "\n",
    "파일 경로 다루기:  \n",
    "os.path.join(path1, path2, ...): 여러 경로를 결합하여 새 경로를 생성합니다.  \n",
    "os.path.exists(path): 지정된 경로의 파일 또는 디렉터리가 존재하는지 여부를 확인합니다.  \n",
    "os.path.abspath(path): 상대 경로를 절대 경로로 변환합니다.  \n",
    "\n",
    "프로세스 관리:  \n",
    "os.system(command): 시스템 명령을 실행합니다.  \n",
    "os.popen(command): 명령을 실행하고 그 결과를 읽을 수 있는 파일 객체를 반환합니다.  \n",
    "\n",
    "환경 변수:  \n",
    "os.environ: 현재 환경 변수에 대한 딕셔너리입니다.  \n",
    "\n",
    "그 외:  \n",
    "os.name: 현재 운영 체제의 이름을 제공합니다 ('posix' 또는 'nt' 등).  \n",
    "os.pathsep: 현재 운영 체제에서 사용하는 경로 구분자를 제공합니다."
   ]
  },
  {
   "cell_type": "code",
   "execution_count": 2,
   "id": "ac767f25",
   "metadata": {},
   "outputs": [],
   "source": [
    "import os  #탐색기 명령 , sys 모듈과 보통 같이 쓴다."
   ]
  },
  {
   "cell_type": "code",
   "execution_count": 3,
   "id": "1c08575b",
   "metadata": {},
   "outputs": [
    {
     "name": "stdout",
     "output_type": "stream",
     "text": [
      "['DirEntry', 'EX_OK', 'F_OK', 'GenericAlias', 'Mapping', 'MutableMapping', 'O_APPEND', 'O_BINARY', 'O_CREAT', 'O_EXCL', 'O_NOINHERIT', 'O_RANDOM', 'O_RDONLY', 'O_RDWR', 'O_SEQUENTIAL', 'O_SHORT_LIVED', 'O_TEMPORARY', 'O_TEXT', 'O_TRUNC', 'O_WRONLY', 'P_DETACH', 'P_NOWAIT', 'P_NOWAITO', 'P_OVERLAY', 'P_WAIT', 'PathLike', 'R_OK', 'SEEK_CUR', 'SEEK_END', 'SEEK_SET', 'TMP_MAX', 'W_OK', 'X_OK', '_AddedDllDirectory', '_Environ', '__all__', '__builtins__', '__doc__', '__file__', '__loader__', '__name__', '__package__', '__spec__', '_check_methods', '_execvpe', '_exists', '_exit', '_fspath', '_get_exports_list', '_walk', '_wrap_close', 'abc', 'abort', 'access', 'add_dll_directory', 'altsep', 'chdir', 'chmod', 'close', 'closerange', 'cpu_count', 'curdir', 'defpath', 'device_encoding', 'devnull', 'dup', 'dup2', 'environ', 'error', 'execl', 'execle', 'execlp', 'execlpe', 'execv', 'execve', 'execvp', 'execvpe', 'extsep', 'fdopen', 'fsdecode', 'fsencode', 'fspath', 'fstat', 'fsync', 'ftruncate', 'get_exec_path', 'get_handle_inheritable', 'get_inheritable', 'get_terminal_size', 'getcwd', 'getcwdb', 'getenv', 'getlogin', 'getpid', 'getppid', 'isatty', 'kill', 'linesep', 'link', 'listdir', 'lseek', 'lstat', 'makedirs', 'mkdir', 'name', 'open', 'pardir', 'path', 'pathsep', 'pipe', 'popen', 'putenv', 'read', 'readlink', 'remove', 'removedirs', 'rename', 'renames', 'replace', 'rmdir', 'scandir', 'sep', 'set_handle_inheritable', 'set_inheritable', 'spawnl', 'spawnle', 'spawnv', 'spawnve', 'st', 'startfile', 'stat', 'stat_result', 'statvfs_result', 'strerror', 'supports_bytes_environ', 'supports_dir_fd', 'supports_effective_ids', 'supports_fd', 'supports_follow_symlinks', 'symlink', 'sys', 'system', 'terminal_size', 'times', 'times_result', 'truncate', 'umask', 'uname_result', 'unlink', 'unsetenv', 'urandom', 'utime', 'waitpid', 'waitstatus_to_exitcode', 'walk', 'write']\n"
     ]
    }
   ],
   "source": [
    "print(dir(os))"
   ]
  },
  {
   "cell_type": "code",
   "execution_count": 4,
   "id": "ca1890b2",
   "metadata": {},
   "outputs": [
    {
     "data": {
      "text/plain": [
       "'C:\\\\Jupyter\\\\파이썬'"
      ]
     },
     "execution_count": 4,
     "metadata": {},
     "output_type": "execute_result"
    }
   ],
   "source": [
    "os.getcwd() # 경로 리턴"
   ]
  },
  {
   "cell_type": "code",
   "execution_count": 12,
   "id": "a0ed576f",
   "metadata": {},
   "outputs": [
    {
     "data": {
      "text/plain": [
       "'C:\\\\'"
      ]
     },
     "execution_count": 12,
     "metadata": {},
     "output_type": "execute_result"
    }
   ],
   "source": [
    "# os.mkdir('./test') # 현재 파일에 test 만듬\n",
    "# os.chdir('./test') # 파일 위치 변경\n",
    "os.getcwd()"
   ]
  },
  {
   "cell_type": "code",
   "execution_count": 19,
   "id": "7088f162",
   "metadata": {},
   "outputs": [
    {
     "data": {
      "text/plain": [
       "'C:\\\\'"
      ]
     },
     "execution_count": 19,
     "metadata": {},
     "output_type": "execute_result"
    }
   ],
   "source": [
    "# os.chdir('../') # 상위 폴더로 이동\n",
    "os.getcwd()"
   ]
  },
  {
   "cell_type": "code",
   "execution_count": 22,
   "id": "3532b65e",
   "metadata": {},
   "outputs": [
    {
     "data": {
      "text/plain": [
       "'C:\\\\Jupyter\\\\파이썬'"
      ]
     },
     "execution_count": 22,
     "metadata": {},
     "output_type": "execute_result"
    }
   ],
   "source": [
    "# os.chdir('./Jupyter/파이썬')\n",
    "os.getcwd()"
   ]
  },
  {
   "cell_type": "code",
   "execution_count": 25,
   "id": "2c5c9d68",
   "metadata": {},
   "outputs": [],
   "source": [
    "# test 폴더 밑에 a, b 폴더를 생성해보자.\n",
    "# os.mkdir('./test/a')\n",
    "os.mkdir('./test/b')"
   ]
  },
  {
   "cell_type": "code",
   "execution_count": 11,
   "id": "f679dd69",
   "metadata": {},
   "outputs": [
    {
     "name": "stdout",
     "output_type": "stream",
     "text": [
      "['_LCMAP_LOWERCASE', '_LCMapStringEx', '_LOCALE_NAME_INVARIANT', '__all__', '__builtins__', '__doc__', '__file__', '__loader__', '__name__', '__package__', '__spec__', '_abspath_fallback', '_get_bothseps', '_getfinalpathname', '_getfinalpathname_nonstrict', '_getfullpathname', '_getvolumepathname', '_nt_readlink', '_path_normpath', '_readlink_deep', 'abspath', 'altsep', 'basename', 'commonpath', 'commonprefix', 'curdir', 'defpath', 'devnull', 'dirname', 'exists', 'expanduser', 'expandvars', 'extsep', 'genericpath', 'getatime', 'getctime', 'getmtime', 'getsize', 'isabs', 'isdir', 'isfile', 'islink', 'ismount', 'join', 'lexists', 'normcase', 'normpath', 'os', 'pardir', 'pathsep', 'realpath', 'relpath', 'samefile', 'sameopenfile', 'samestat', 'sep', 'split', 'splitdrive', 'splitext', 'stat', 'supports_unicode_filenames', 'sys']\n"
     ]
    }
   ],
   "source": [
    "print(dir(os.path)) # 파일인지 join 등 많이 "
   ]
  },
  {
   "cell_type": "code",
   "execution_count": 13,
   "id": "18fdd646",
   "metadata": {},
   "outputs": [
    {
     "name": "stdout",
     "output_type": "stream",
     "text": [
      "False\n",
      "True\n",
      "True\n"
     ]
    }
   ],
   "source": [
    "# 파일인지 디렉토리인지 확인 해보자.\n",
    "print(os.path.isfile('./test'))\n",
    "print(os.path.isdir('./test'))\n",
    "print(os.path.exists('./test')) # 존재하지 않으면 파일을 만들어라 이런 식으로 사용한다."
   ]
  },
  {
   "cell_type": "code",
   "execution_count": 26,
   "id": "39e1460d",
   "metadata": {},
   "outputs": [
    {
     "name": "stdout",
     "output_type": "stream",
     "text": [
      "True\n",
      "True\n"
     ]
    }
   ],
   "source": [
    "from pathlib import Path # Path 오브젝트 관리 : 패스 경로를 오브젝트로 관리하는 거고, os는 패스 경로를 모듈로 관리\n",
    "p_file = Path('./a.txt')\n",
    "p_dir = Path('./test')\n",
    "print(p_file.is_file())\n",
    "print(p_dir.is_dir())"
   ]
  },
  {
   "cell_type": "code",
   "execution_count": 24,
   "id": "07b128d2",
   "metadata": {},
   "outputs": [
    {
     "name": "stdout",
     "output_type": "stream",
     "text": [
      "['__bytes__', '__class__', '__delattr__', '__dir__', '__doc__', '__enter__', '__eq__', '__exit__', '__format__', '__fspath__', '__ge__', '__getattribute__', '__getstate__', '__gt__', '__hash__', '__init__', '__init_subclass__', '__le__', '__lt__', '__module__', '__ne__', '__new__', '__reduce__', '__reduce_ex__', '__repr__', '__rtruediv__', '__setattr__', '__sizeof__', '__slots__', '__str__', '__subclasshook__', '__truediv__', '_cached_cparts', '_cparts', '_drv', '_format_parsed_parts', '_from_parsed_parts', '_from_parts', '_hash', '_make_child', '_make_child_relpath', '_parse_args', '_parts', '_pparts', '_root', '_scandir', '_str', 'absolute', 'anchor', 'as_posix', 'as_uri', 'chmod', 'cwd', 'drive', 'exists', 'expanduser', 'glob', 'group', 'hardlink_to', 'home', 'is_absolute', 'is_block_device', 'is_char_device', 'is_dir', 'is_fifo', 'is_file', 'is_mount', 'is_relative_to', 'is_reserved', 'is_socket', 'is_symlink', 'iterdir', 'joinpath', 'lchmod', 'link_to', 'lstat', 'match', 'mkdir', 'name', 'open', 'owner', 'parent', 'parents', 'parts', 'read_bytes', 'read_text', 'readlink', 'relative_to', 'rename', 'replace', 'resolve', 'rglob', 'rmdir', 'root', 'samefile', 'stat', 'stem', 'suffix', 'suffixes', 'symlink_to', 'touch', 'unlink', 'with_name', 'with_stem', 'with_suffix', 'write_bytes', 'write_text']\n"
     ]
    }
   ],
   "source": [
    "print(dir(Path)) # 이 친구도 os.path 처럼 is시리즈를 가지고 있다. \n",
    "# 어떨때는 Pathlib(os.path 보다 짧아서 더 자주 씀, 단 is_ 언더바가 있다.) 어쩔대는 os.path 씀"
   ]
  },
  {
   "cell_type": "markdown",
   "id": "6b032cff",
   "metadata": {},
   "source": [
    "exam01) 지정된 디렉토리의 목록을 리턴 받자"
   ]
  },
  {
   "cell_type": "code",
   "execution_count": 26,
   "id": "3266741e",
   "metadata": {},
   "outputs": [
    {
     "data": {
      "text/plain": [
       "['.ipynb_checkpoints',\n",
       " '01_Python 기본.ipynb',\n",
       " '02_소스코드.ipynb',\n",
       " '03_소스코드.ipynb',\n",
       " '04_소스코드.ipynb',\n",
       " '05_소스코드.ipynb',\n",
       " '06_소스코드.ipynb',\n",
       " '07_소스코드.ipynb',\n",
       " '08_소스코드.ipynb',\n",
       " '4팀 조별과제',\n",
       " 'a.txt',\n",
       " 'test',\n",
       " '[1]Exam01.ipynb',\n",
       " '[2]Exam02.ipynb']"
      ]
     },
     "execution_count": 26,
     "metadata": {},
     "output_type": "execute_result"
    }
   ],
   "source": [
    "os.listdir('.')"
   ]
  },
  {
   "cell_type": "code",
   "execution_count": 14,
   "id": "40463bdd",
   "metadata": {},
   "outputs": [
    {
     "name": "stdout",
     "output_type": "stream",
     "text": [
      "['.ipynb_checkpoints', '01_Python 기본.ipynb', '02_소스코드.ipynb', '03_소스코드.ipynb', '04_소스코드.ipynb', '05_소스코드.ipynb', '06_소스코드.ipynb', '07_소스코드.ipynb', '08_소스코드.ipynb', '4팀 조별과제', '[1]Exam01.ipynb', '[2]Exam02.ipynb', 'a.txt', 'test']\n"
     ]
    }
   ],
   "source": [
    "res=os.listdir('.') # == os.listdir('.') 현재 디렉토리 목록\n",
    "print(sorted(res))"
   ]
  },
  {
   "cell_type": "markdown",
   "id": "2bf56aa7",
   "metadata": {},
   "source": [
    "exam02) 지정된 디렉토리의 목록을 리턴 받자. 단, 파일이면 a.txt [파일], test [디렉토리] 로 출력을 하자."
   ]
  },
  {
   "cell_type": "code",
   "execution_count": 33,
   "id": "ee27f1bc",
   "metadata": {},
   "outputs": [
    {
     "name": "stdout",
     "output_type": "stream",
     "text": [
      ".ipynb_checkpoints      [폴더]\n",
      "01_Python 기본.ipynb     [파일]\n",
      "02_소스코드-Copy1.ipynb     [파일]\n",
      "02_소스코드.ipynb     [파일]\n",
      "03_소스코드.ipynb     [파일]\n",
      "04_소스코드.ipynb     [파일]\n",
      "05_소스코드.ipynb     [파일]\n",
      "06_소스코드.ipynb     [파일]\n",
      "07_소스코드.ipynb     [파일]\n",
      "08_소스코드.ipynb     [파일]\n",
      "a.txt     [파일]\n",
      "test      [폴더]\n",
      "[1]Exam01.ipynb     [파일]\n",
      "[2]Exam02.ipynb     [파일]\n"
     ]
    }
   ],
   "source": [
    "res=os.listdir('.') # c:\\\\test\n",
    "for i in res:\n",
    "    if os.path.isfile('./'+i):\n",
    "        print(i,'   ','[파일]')\n",
    "    else:\n",
    "        print(i,'    ','[폴더]')"
   ]
  },
  {
   "cell_type": "markdown",
   "id": "455ce544",
   "metadata": {},
   "source": [
    "exam03) 지정된 디렉토리의 목록만 나열해 보자."
   ]
  },
  {
   "cell_type": "code",
   "execution_count": 34,
   "id": "859b185b",
   "metadata": {},
   "outputs": [
    {
     "name": "stdout",
     "output_type": "stream",
     "text": [
      "['DLLs', 'Doc', 'include', 'Lib', 'libs', 'Scripts', 'share', 'tcl']\n"
     ]
    }
   ],
   "source": [
    "os.getcwd()\n",
    "dir_path = 'C:\\Python\\Python312'\n",
    "dir_list = [f for f in os.listdir(dir_path) if os.path.isdir(os.path.join(dir_path,f))]\n",
    "print(dir_list)"
   ]
  },
  {
   "cell_type": "code",
   "execution_count": 43,
   "id": "66fd3928",
   "metadata": {},
   "outputs": [
    {
     "name": "stdout",
     "output_type": "stream",
     "text": [
      "['LICENSE.txt', 'NEWS.txt', 'python.exe', 'python3.dll', 'python312.dll', 'pythonw.exe', 'vcruntime140.dll', 'vcruntime140_1.dll']\n"
     ]
    }
   ],
   "source": [
    "# 위에꺼 파일로도 열어보자 라고 하셨는데 안됨 ㅎㅎ\n",
    "file_path = 'C:\\Python\\Python312'\n",
    "file_list = [f for f in os.listdir(file_path) if os.path.isfile(os.path.join(file_path,f))]\n",
    "print(file_list)"
   ]
  },
  {
   "cell_type": "code",
   "execution_count": 44,
   "id": "00ef5f09",
   "metadata": {},
   "outputs": [
    {
     "data": {
      "text/plain": [
       "8"
      ]
     },
     "execution_count": 44,
     "metadata": {},
     "output_type": "execute_result"
    }
   ],
   "source": [
    "# 디렉토리 크기 os.scandir() / 파일 크기 사이즈 os.path.getsize()\n",
    "os.path.getsize('./a.txt')"
   ]
  },
  {
   "cell_type": "markdown",
   "id": "f41b5b28",
   "metadata": {},
   "source": [
    "### os.scandir.direntry 설명\n",
    "- os.scandir() 함수는 디렉터리를 스캔하고 각 항목에 대한 os.DirEntry 객체를 생성하는 함수입니다. os.DirEntry 객체는 디렉터리 내의 각 파일 또는 하위 디렉터리에 대한 정보를 제공하는데, 이를 통해 파일 이름, 경로, 상태 등의 속성을 얻을 수 있습니다.\n",
    "- 이를 통해 파일 시스템에 대한 정보를 효과적으로 스캔하고, 각 항목에 대한 세부 정보를 얻을 수 있습니다.\n",
    "\n",
    "- os.DirEntry 객체의 주요 속성과 메서드는 다음과 같습니다:  \n",
    "    - name: 항목의 이름을 반환합니다.  \n",
    "    - path: 항목의 경로를 반환합니다.  \n",
    "    - is_file(): 항목이 파일인지 여부를 확인합니다.  \n",
    "    - is_dir(): 항목이 디렉터리인지 여부를 확인합니다.  \n",
    "    - is_symlink(): 항목이 심볼릭 링크인지 여부를 확인합니다.  \n",
    "    - stat(): 항목에 대한 os.stat_result 객체를 반환합니다. (os.stat() 함수와 유사)  "
   ]
  },
  {
   "cell_type": "code",
   "execution_count": 48,
   "id": "de558292",
   "metadata": {},
   "outputs": [
    {
     "name": "stdout",
     "output_type": "stream",
     "text": [
      "<class 'nt.DirEntry'>\n",
      "False\n",
      "stat 확인 os.stat_result(st_mode=16895, st_ino=0, st_dev=0, st_nlink=0, st_uid=0, st_gid=0, st_size=0, st_atime=1705678490, st_mtime=1700642525, st_ctime=1700626859)\n"
     ]
    }
   ],
   "source": [
    "# print(os.scandir('.'))\n",
    "# (.)현재 디렉토리 안에 목록을 <DirEntry '.ipynb_checkpoints'>라는 객체로 관리한다.\n",
    "# help(os.scandir())\n",
    "# print(list(os.scandir('.')))\n",
    "\n",
    "res=list(os.scandir('.'))# scandir()은 ScandirIterator클래스이다. -> 1) list로 묶었서 표현했다.\n",
    "print(type(res[0])) # 2) 타입 확인\n",
    "# print(help(res[0])) # DirEntry의 주요 메소드 is_dir is_file stat 3) 멤버확인\n",
    "print(res[2].is_dir()) # 4) 테스트 했다.\n",
    "print(f'stat 확인 {res[0].stat()}')"
   ]
  },
  {
   "cell_type": "markdown",
   "id": "6a7e725e",
   "metadata": {},
   "source": [
    "## scandir 처리 순서\n",
    "#### os.scandir('.')로 a.txt의 사이즈를 출력해보자."
   ]
  },
  {
   "cell_type": "markdown",
   "id": "359fa6b0",
   "metadata": {},
   "source": [
    "### 1) os.scandir('.') 형태 확인 -> list로 관리"
   ]
  },
  {
   "cell_type": "code",
   "execution_count": 40,
   "id": "95c4a840",
   "metadata": {},
   "outputs": [
    {
     "data": {
      "text/plain": [
       "[<DirEntry '.ipynb_checkpoints'>,\n",
       " <DirEntry '01_Python 기본.ipynb'>,\n",
       " <DirEntry '02_소스코드.ipynb'>,\n",
       " <DirEntry '03_소스코드.ipynb'>,\n",
       " <DirEntry '04_소스코드.ipynb'>,\n",
       " <DirEntry '05_소스코드.ipynb'>,\n",
       " <DirEntry '06_소스코드.ipynb'>,\n",
       " <DirEntry '07_소스코드.ipynb'>,\n",
       " <DirEntry '08_소스코드.ipynb'>,\n",
       " <DirEntry '4팀 조별과제'>,\n",
       " <DirEntry 'a.txt'>,\n",
       " <DirEntry 'test'>,\n",
       " <DirEntry '[1]Exam01.ipynb'>,\n",
       " <DirEntry '[2]Exam02.ipynb'>]"
      ]
     },
     "execution_count": 40,
     "metadata": {},
     "output_type": "execute_result"
    }
   ],
   "source": [
    "list(os.scandir('.'))"
   ]
  },
  {
   "cell_type": "markdown",
   "id": "005d4a99",
   "metadata": {},
   "source": [
    "### os.listdir() 과 os.stat() 차이\n",
    ": os.listdir()와 os.stat()은 각각 디렉터리 내의 파일 및 디렉터리 목록을 얻고, 파일이나 디렉터리의 상태 정보를 얻기 위한 함수입니다. 그러나 os.listdir()는 단순히 파일 및 디렉터리의 이름 목록을 반환하는 반면, os.stat()은 각 파일이나 디렉터리의 상세한 정보를 제공합니다."
   ]
  },
  {
   "cell_type": "code",
   "execution_count": 52,
   "id": "33ecf49e",
   "metadata": {},
   "outputs": [
    {
     "name": "stdout",
     "output_type": "stream",
     "text": [
      "Help on DirEntry in module nt object:\n",
      "\n",
      "class DirEntry(builtins.object)\n",
      " |  Methods defined here:\n",
      " |  \n",
      " |  __fspath__(self, /)\n",
      " |      Returns the path for the entry.\n",
      " |  \n",
      " |  __repr__(self, /)\n",
      " |      Return repr(self).\n",
      " |  \n",
      " |  inode(self, /)\n",
      " |      Return inode of the entry; cached per entry.\n",
      " |  \n",
      " |  is_dir(self, /, *, follow_symlinks=True)\n",
      " |      Return True if the entry is a directory; cached per entry.\n",
      " |  \n",
      " |  is_file(self, /, *, follow_symlinks=True)\n",
      " |      Return True if the entry is a file; cached per entry.\n",
      " |  \n",
      " |  is_symlink(self, /)\n",
      " |      Return True if the entry is a symbolic link; cached per entry.\n",
      " |  \n",
      " |  stat(self, /, *, follow_symlinks=True)\n",
      " |      Return stat_result object for the entry; cached per entry.\n",
      " |  \n",
      " |  ----------------------------------------------------------------------\n",
      " |  Class methods defined here:\n",
      " |  \n",
      " |  __class_getitem__(...) from builtins.type\n",
      " |      See PEP 585\n",
      " |  \n",
      " |  ----------------------------------------------------------------------\n",
      " |  Data descriptors defined here:\n",
      " |  \n",
      " |  name\n",
      " |      the entry's base filename, relative to scandir() \"path\" argument\n",
      " |  \n",
      " |  path\n",
      " |      the entry's full path name; equivalent to os.path.join(scandir_path, entry.name)\n",
      "\n",
      "Help on stat_result in module os object:\n",
      "\n",
      "class stat_result(builtins.tuple)\n",
      " |  stat_result(iterable=(), /)\n",
      " |  \n",
      " |  stat_result: Result from stat, fstat, or lstat.\n",
      " |  \n",
      " |  This object may be accessed either as a tuple of\n",
      " |    (mode, ino, dev, nlink, uid, gid, size, atime, mtime, ctime)\n",
      " |  or via the attributes st_mode, st_ino, st_dev, st_nlink, st_uid, and so on.\n",
      " |  \n",
      " |  Posix/windows: If your platform supports st_blksize, st_blocks, st_rdev,\n",
      " |  or st_flags, they are available as attributes only.\n",
      " |  \n",
      " |  See os.stat for more information.\n",
      " |  \n",
      " |  Method resolution order:\n",
      " |      stat_result\n",
      " |      builtins.tuple\n",
      " |      builtins.object\n",
      " |  \n",
      " |  Methods defined here:\n",
      " |  \n",
      " |  __reduce__(...)\n",
      " |      Helper for pickle.\n",
      " |  \n",
      " |  __repr__(self, /)\n",
      " |      Return repr(self).\n",
      " |  \n",
      " |  ----------------------------------------------------------------------\n",
      " |  Static methods defined here:\n",
      " |  \n",
      " |  __new__(*args, **kwargs) from builtins.type\n",
      " |      Create and return a new object.  See help(type) for accurate signature.\n",
      " |  \n",
      " |  ----------------------------------------------------------------------\n",
      " |  Data descriptors defined here:\n",
      " |  \n",
      " |  st_atime\n",
      " |      time of last access\n",
      " |  \n",
      " |  st_atime_ns\n",
      " |      time of last access in nanoseconds\n",
      " |  \n",
      " |  st_ctime\n",
      " |      time of last change\n",
      " |  \n",
      " |  st_ctime_ns\n",
      " |      time of last change in nanoseconds\n",
      " |  \n",
      " |  st_dev\n",
      " |      device\n",
      " |  \n",
      " |  st_file_attributes\n",
      " |      Windows file attribute bits\n",
      " |  \n",
      " |  st_gid\n",
      " |      group ID of owner\n",
      " |  \n",
      " |  st_ino\n",
      " |      inode\n",
      " |  \n",
      " |  st_mode\n",
      " |      protection bits\n",
      " |  \n",
      " |  st_mtime\n",
      " |      time of last modification\n",
      " |  \n",
      " |  st_mtime_ns\n",
      " |      time of last modification in nanoseconds\n",
      " |  \n",
      " |  st_nlink\n",
      " |      number of hard links\n",
      " |  \n",
      " |  st_reparse_tag\n",
      " |      Windows reparse tag\n",
      " |  \n",
      " |  st_size\n",
      " |      total size, in bytes\n",
      " |  \n",
      " |  st_uid\n",
      " |      user ID of owner\n",
      " |  \n",
      " |  ----------------------------------------------------------------------\n",
      " |  Data and other attributes defined here:\n",
      " |  \n",
      " |  __match_args__ = ('st_mode', 'st_ino', 'st_dev', 'st_nlink', 'st_uid',...\n",
      " |  \n",
      " |  n_fields = 18\n",
      " |  \n",
      " |  n_sequence_fields = 10\n",
      " |  \n",
      " |  n_unnamed_fields = 3\n",
      " |  \n",
      " |  ----------------------------------------------------------------------\n",
      " |  Methods inherited from builtins.tuple:\n",
      " |  \n",
      " |  __add__(self, value, /)\n",
      " |      Return self+value.\n",
      " |  \n",
      " |  __contains__(self, key, /)\n",
      " |      Return key in self.\n",
      " |  \n",
      " |  __eq__(self, value, /)\n",
      " |      Return self==value.\n",
      " |  \n",
      " |  __ge__(self, value, /)\n",
      " |      Return self>=value.\n",
      " |  \n",
      " |  __getattribute__(self, name, /)\n",
      " |      Return getattr(self, name).\n",
      " |  \n",
      " |  __getitem__(self, key, /)\n",
      " |      Return self[key].\n",
      " |  \n",
      " |  __getnewargs__(self, /)\n",
      " |  \n",
      " |  __gt__(self, value, /)\n",
      " |      Return self>value.\n",
      " |  \n",
      " |  __hash__(self, /)\n",
      " |      Return hash(self).\n",
      " |  \n",
      " |  __iter__(self, /)\n",
      " |      Implement iter(self).\n",
      " |  \n",
      " |  __le__(self, value, /)\n",
      " |      Return self<=value.\n",
      " |  \n",
      " |  __len__(self, /)\n",
      " |      Return len(self).\n",
      " |  \n",
      " |  __lt__(self, value, /)\n",
      " |      Return self<value.\n",
      " |  \n",
      " |  __mul__(self, value, /)\n",
      " |      Return self*value.\n",
      " |  \n",
      " |  __ne__(self, value, /)\n",
      " |      Return self!=value.\n",
      " |  \n",
      " |  __rmul__(self, value, /)\n",
      " |      Return value*self.\n",
      " |  \n",
      " |  count(self, value, /)\n",
      " |      Return number of occurrences of value.\n",
      " |  \n",
      " |  index(self, value, start=0, stop=9223372036854775807, /)\n",
      " |      Return first index of value.\n",
      " |      \n",
      " |      Raises ValueError if the value is not present.\n",
      " |  \n",
      " |  ----------------------------------------------------------------------\n",
      " |  Class methods inherited from builtins.tuple:\n",
      " |  \n",
      " |  __class_getitem__(...) from builtins.type\n",
      " |      See PEP 585\n",
      "\n"
     ]
    }
   ],
   "source": [
    "# list로 해서 os.scandir('.')) 을 보니 DirEntry가 뜨는데 이게 먼지 모름 그러면 type을 봄색해보기\n",
    "type(list(os.scandir('.'))[0]) # DirEntry nt.DirEntry 라는 클래스이다.\n",
    "help(list(os.scandir('.'))[0]) # 클래스이 메소드 is_dir is_file stat\n",
    "# stat 은 Return stat_result object 하니까\n",
    "help(list(os.scandir('.'))[0].stat())\n",
    "# stat 를 class로 계산하고 stat_result 이 친구를 리턴"
   ]
  },
  {
   "cell_type": "markdown",
   "id": "625e9f7d",
   "metadata": {},
   "source": [
    "### 2) a.txt 인덱스 넣기"
   ]
  },
  {
   "cell_type": "code",
   "execution_count": 42,
   "id": "a9a17a7c",
   "metadata": {},
   "outputs": [
    {
     "data": {
      "text/plain": [
       "<DirEntry 'a.txt'>"
      ]
     },
     "execution_count": 42,
     "metadata": {},
     "output_type": "execute_result"
    }
   ],
   "source": [
    "list(os.scandir('.'))[10]"
   ]
  },
  {
   "cell_type": "markdown",
   "id": "ded0019c",
   "metadata": {},
   "source": [
    "### 3) stat() 함수 확인"
   ]
  },
  {
   "cell_type": "code",
   "execution_count": 43,
   "id": "a6914f12",
   "metadata": {},
   "outputs": [
    {
     "data": {
      "text/plain": [
       "os.stat_result(st_mode=33206, st_ino=0, st_dev=0, st_nlink=0, st_uid=0, st_gid=0, st_size=8, st_atime=1700640132, st_mtime=1700640132, st_ctime=1700640118)"
      ]
     },
     "execution_count": 43,
     "metadata": {},
     "output_type": "execute_result"
    }
   ],
   "source": [
    "list(os.scandir('.'))[10].stat() #DirEntry nt.DirEntry is_dir is_file stat"
   ]
  },
  {
   "cell_type": "markdown",
   "id": "6ff915d4",
   "metadata": {},
   "source": [
    "### 4) st_size 확인"
   ]
  },
  {
   "cell_type": "code",
   "execution_count": 45,
   "id": "b67c97f0",
   "metadata": {},
   "outputs": [
    {
     "data": {
      "text/plain": [
       "8"
      ]
     },
     "execution_count": 45,
     "metadata": {},
     "output_type": "execute_result"
    }
   ],
   "source": [
    "# os.scandir('.')로 a.txt의 사이즈를 출력해보자.\n",
    "list(os.scandir('.'))[10].stat().st_size"
   ]
  },
  {
   "cell_type": "code",
   "execution_count": null,
   "id": "3aa5399a",
   "metadata": {},
   "outputs": [],
   "source": [
    "# 디렉토리 사이즈를 체크 해보자.\n",
    "def get_dir_size(path='.')"
   ]
  },
  {
   "cell_type": "code",
   "execution_count": 63,
   "id": "3ee45232",
   "metadata": {},
   "outputs": [
    {
     "name": "stdout",
     "output_type": "stream",
     "text": [
      "<class 'nt.DirEntry'>\n",
      "True\n",
      "stat 확인 : os.stat_result(st_mode=33206, st_ino=0, st_dev=0, st_nlink=0, st_uid=0, st_gid=0, st_size=5845, st_atime=1700629760, st_mtime=1700629760, st_ctime=1700626862)\n"
     ]
    }
   ],
   "source": [
    "res=list(os.scandir('.')) \n",
    "# scandir()은 ScandirIterator(반복)클래스이다. -> list()\n",
    "# 프린트를 해서 봤더니 얘네가 하나씩 하나씩 direntry로 객체를 관리하더라\n",
    "# (.) 현재 디렉토리 안에 목록을\n",
    "# <DirEntry '.ipynb_checkpoints'> 라는 객체로 관리한다.\n",
    "print(type(res[0]))  # 타입확인\n",
    "# print(help(res[0]))  \n",
    "# DirEntry의 주요 메소드 : is_file is_dir stat가 중요함  3) 멤버 확인\n",
    "print(res[8].is_file())  #  4) 테스트 했다.\n",
    "print(f'stat 확인 : {res[1].stat()}')"
   ]
  },
  {
   "cell_type": "code",
   "execution_count": 72,
   "id": "2a8f24bd",
   "metadata": {},
   "outputs": [
    {
     "name": "stdout",
     "output_type": "stream",
     "text": [
      "Help on class DirEntry in module nt:\n",
      "\n",
      "class DirEntry(builtins.object)\n",
      " |  Methods defined here:\n",
      " |  \n",
      " |  __fspath__(self, /)\n",
      " |      Returns the path for the entry.\n",
      " |  \n",
      " |  __repr__(self, /)\n",
      " |      Return repr(self).\n",
      " |  \n",
      " |  inode(self, /)\n",
      " |      Return inode of the entry; cached per entry.\n",
      " |  \n",
      " |  is_dir(self, /, *, follow_symlinks=True)\n",
      " |      Return True if the entry is a directory; cached per entry.\n",
      " |  \n",
      " |  is_file(self, /, *, follow_symlinks=True)\n",
      " |      Return True if the entry is a file; cached per entry.\n",
      " |  \n",
      " |  is_symlink(self, /)\n",
      " |      Return True if the entry is a symbolic link; cached per entry.\n",
      " |  \n",
      " |  stat(self, /, *, follow_symlinks=True)\n",
      " |      Return stat_result object for the entry; cached per entry.\n",
      " |  \n",
      " |  ----------------------------------------------------------------------\n",
      " |  Class methods defined here:\n",
      " |  \n",
      " |  __class_getitem__(...) from builtins.type\n",
      " |      See PEP 585\n",
      " |  \n",
      " |  ----------------------------------------------------------------------\n",
      " |  Data descriptors defined here:\n",
      " |  \n",
      " |  name\n",
      " |      the entry's base filename, relative to scandir() \"path\" argument\n",
      " |  \n",
      " |  path\n",
      " |      the entry's full path name; equivalent to os.path.join(scandir_path, entry.name)\n",
      "\n"
     ]
    }
   ],
   "source": [
    "help(os.DirEntry)"
   ]
  },
  {
   "cell_type": "code",
   "execution_count": 73,
   "id": "32a879d2",
   "metadata": {},
   "outputs": [
    {
     "data": {
      "text/plain": [
       "os.stat_result(st_mode=33206, st_ino=0, st_dev=0, st_nlink=0, st_uid=0, st_gid=0, st_size=8, st_atime=1700640132, st_mtime=1700640132, st_ctime=1700640118)"
      ]
     },
     "execution_count": 73,
     "metadata": {},
     "output_type": "execute_result"
    }
   ],
   "source": [
    "list(os.scandir('.'))[9].stat()  \n",
    "# 클래스로 리턴해줌 (이 안에 함수 st_size가 있는 듯?)"
   ]
  },
  {
   "cell_type": "code",
   "execution_count": 75,
   "id": "08c42f51",
   "metadata": {},
   "outputs": [
    {
     "data": {
      "text/plain": [
       "8"
      ]
     },
     "execution_count": 75,
     "metadata": {},
     "output_type": "execute_result"
    }
   ],
   "source": [
    "list(os.scandir('.'))[9].stat().st_size"
   ]
  },
  {
   "cell_type": "code",
   "execution_count": 44,
   "id": "ecd7152b",
   "metadata": {},
   "outputs": [
    {
     "data": {
      "text/plain": [
       "4096"
      ]
     },
     "execution_count": 44,
     "metadata": {},
     "output_type": "execute_result"
    }
   ],
   "source": [
    "# 디렉토리 사이즈를 체크 해보자. [<DirEntry '.ipynb_checkpoints'>]\n",
    "def get_dir_size(path='.'):\n",
    "    total_size=0  # 전체 사이즈\n",
    "# scandir가 도대체 머야 객체가 찍혀 나오네? dir로 검색하니까 목록 디렉토르릴\n",
    "# 스캔해서 반복을 하겠다 머로? direntry로"
   ]
  },
  {
   "cell_type": "code",
   "execution_count": 53,
   "id": "36063035",
   "metadata": {},
   "outputs": [
    {
     "name": "stdout",
     "output_type": "stream",
     "text": [
      "297278\n"
     ]
    }
   ],
   "source": [
    "#디렉토리 사이즈를 체크 해보자. [<DirEntry '.ipynb_checkpoints'> ]\n",
    "def get_dir_size(path='.'):\n",
    "    total_size  =0  # 전체 사이즈    \n",
    "    with os.scandir(path) as it:\n",
    "        for entry in it:\n",
    "            if entry.is_file():\n",
    "                total_size += entry.stat().st_size\n",
    "            elif entry.is_dir():\n",
    "                total_size += get_dir_size(entry.path)\n",
    "    return total_size\n",
    "\n",
    "print(get_dir_size())"
   ]
  },
  {
   "cell_type": "code",
   "execution_count": null,
   "id": "81a18050",
   "metadata": {},
   "outputs": [],
   "source": []
  }
 ],
 "metadata": {
  "kernelspec": {
   "display_name": "Python 3 (ipykernel)",
   "language": "python",
   "name": "python3"
  },
  "language_info": {
   "codemirror_mode": {
    "name": "ipython",
    "version": 3
   },
   "file_extension": ".py",
   "mimetype": "text/x-python",
   "name": "python",
   "nbconvert_exporter": "python",
   "pygments_lexer": "ipython3",
   "version": "3.11.5"
  }
 },
 "nbformat": 4,
 "nbformat_minor": 5
}
