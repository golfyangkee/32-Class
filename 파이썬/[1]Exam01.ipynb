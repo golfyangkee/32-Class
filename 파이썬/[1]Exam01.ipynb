{
 "cells": [
  {
   "cell_type": "markdown",
   "id": "c6ec816c",
   "metadata": {},
   "source": [
    "exam01) dice라는 변수에 주사위 눈 6개를 대입하고 \"주사위 눈이 5가 있다\"라고 출력하자 (이용: list, if)"
   ]
  },
  {
   "cell_type": "code",
   "execution_count": 1,
   "id": "66393b3f",
   "metadata": {},
   "outputs": [
    {
     "name": "stdout",
     "output_type": "stream",
     "text": [
      "주사위 눈이 5가 있다\n"
     ]
    }
   ],
   "source": [
    "dice = [1,2,3,4,5,6]\n",
    "if 5 in dice:\n",
    "    print('주사위 눈이 5가 있다')"
   ]
  },
  {
   "cell_type": "markdown",
   "id": "9e1d0d82",
   "metadata": {},
   "source": [
    "exam02) dice라는 변수에 주사위 눈 6개를 대입하고 \"주사위 눈이 5가 있다\"라고 출력하자 (이용: list, if)\n",
    "입력된 숫자를 받아서 메시지가 출력되도록 하자"
   ]
  },
  {
   "cell_type": "code",
   "execution_count": 2,
   "id": "d5509030",
   "metadata": {},
   "outputs": [
    {
     "name": "stdout",
     "output_type": "stream",
     "text": [
      "숫자 입력: 5\n",
      "주사위 눈이 5이/가 있다\n"
     ]
    }
   ],
   "source": [
    "dice=[1,2,3,4,5,6]\n",
    "num=int(input(\"숫자 입력: \"))\n",
    "if num in dice:\n",
    "    print(f'주사위 눈이 {num}이/가 있다')"
   ]
  },
  {
   "cell_type": "markdown",
   "id": "1e751ae1",
   "metadata": {},
   "source": [
    "exam03) dice라는 변수에 주사위 눈 6개를 대입하고 \"주사위 눈이 5가 있다\"라고 출력하자 (이용: list, if)\n",
    "입력된 숫자를 받아서 메시지가 출력되도록 하자.\n",
    "단, 없으면 \"해당 숫자가 주사위 눈에 없다\" 라고 출력하자"
   ]
  },
  {
   "cell_type": "code",
   "execution_count": 3,
   "id": "70ca7b3b",
   "metadata": {},
   "outputs": [
    {
     "name": "stdout",
     "output_type": "stream",
     "text": [
      "숫자 입력: 3\n",
      "주사위 눈이 3이/가 있다\n"
     ]
    }
   ],
   "source": [
    "dice=[1,2,3,4,5,6]\n",
    "num=int(input(\"숫자 입력: \"))\n",
    "if num in dice:\n",
    "    print(f'주사위 눈이 {num}이/가 있다')\n",
    "else:\n",
    "    print(\"해당 숫자가 주사위 눈에 없다\")"
   ]
  },
  {
   "cell_type": "markdown",
   "id": "c45f1546",
   "metadata": {},
   "source": [
    "exam04) [], (), range()를 이용해서 1,2,3을 for 와 함께 출력해보자."
   ]
  },
  {
   "cell_type": "code",
   "execution_count": 4,
   "id": "a6a71be3",
   "metadata": {},
   "outputs": [
    {
     "name": "stdout",
     "output_type": "stream",
     "text": [
      "리스트 1\t리스트 2\t리스트 3\t터플 1\t터플 2\t터플 3\t레인지 1\t레인지 2\t레인지 3\t문자열 e\t문자열 l\t문자열 l\t문자열 y\t"
     ]
    }
   ],
   "source": [
    "for i in [1,2,3]:\n",
    "    print(f'리스트 {i}', end=\"\\t\")\n",
    "for i in (1,2,3):\n",
    "    print(f'터플 {i}', end=\"\\t\")\n",
    "for i in range(1,4):\n",
    "    print(f'레인지 {i}', end=\"\\t\")\n",
    "for i in \"elly\":\n",
    "    print(f'문자열 {i}', end=\"\\t\")"
   ]
  },
  {
   "cell_type": "markdown",
   "id": "bf4fda78",
   "metadata": {},
   "source": [
    "exam05) 숫자를 입력받아 별★을 5줄의 삼각형 모양으로 별을 출력 해보자. for 활용"
   ]
  },
  {
   "cell_type": "code",
   "execution_count": 5,
   "id": "e1cf75ce",
   "metadata": {},
   "outputs": [
    {
     "name": "stdout",
     "output_type": "stream",
     "text": [
      "숫자 입력: 4\n",
      "★\n",
      "★★\n",
      "★★★\n",
      "★★★★\n"
     ]
    }
   ],
   "source": [
    "num=int(input(\"숫자 입력: \"))\n",
    "\n",
    "for i in range(1,num+1):\n",
    "    print('★'*i)\n"
   ]
  },
  {
   "cell_type": "markdown",
   "id": "394f2e1b",
   "metadata": {},
   "source": [
    "exam06) 주사위를 10번 던져서 눈을 출력해보자."
   ]
  },
  {
   "cell_type": "code",
   "execution_count": 6,
   "id": "8e4d54c8",
   "metadata": {},
   "outputs": [
    {
     "name": "stdout",
     "output_type": "stream",
     "text": [
      "1번째는 4\n",
      "2번째는 2\n",
      "3번째는 6\n",
      "4번째는 6\n",
      "5번째는 2\n",
      "6번째는 3\n",
      "7번째는 5\n",
      "8번째는 1\n",
      "9번째는 5\n",
      "10번째는 6\n"
     ]
    }
   ],
   "source": [
    "import random\n",
    "dice=[1,2,3,4,5,6]\n",
    "for i in range(1,11):\n",
    "    print(f'{i}번째는 {random.choice(dice)}')"
   ]
  },
  {
   "cell_type": "markdown",
   "id": "ad821252",
   "metadata": {},
   "source": [
    "exam07) 동전을 10번 던져서 앞면, 뒷면을 출력해보자."
   ]
  },
  {
   "cell_type": "code",
   "execution_count": 7,
   "id": "f8dfa27d",
   "metadata": {},
   "outputs": [
    {
     "name": "stdout",
     "output_type": "stream",
     "text": [
      "1번째는 앞면\n",
      "2번째는 뒷면\n",
      "3번째는 앞면\n",
      "4번째는 뒷면\n",
      "5번째는 앞면\n",
      "6번째는 뒷면\n",
      "7번째는 뒷면\n",
      "8번째는 앞면\n",
      "9번째는 앞면\n",
      "10번째는 뒷면\n"
     ]
    }
   ],
   "source": [
    "import random\n",
    "dong=['앞면', '뒷면']\n",
    "\n",
    "for i in range(1,11):\n",
    "    print(f'{i}번째는 {random.choice(dong)}')"
   ]
  },
  {
   "cell_type": "markdown",
   "id": "69b120cb",
   "metadata": {},
   "source": [
    "exam08) 동전을 10번 던져서 앞면, 뒷면을 출력해보자.\n",
    "단, 앞면이 나오는 횟수를 출력하자."
   ]
  },
  {
   "cell_type": "code",
   "execution_count": 8,
   "id": "9d6b6bc8",
   "metadata": {},
   "outputs": [
    {
     "name": "stdout",
     "output_type": "stream",
     "text": [
      "앞면의 횟수 : 5 이다\n"
     ]
    }
   ],
   "source": [
    "import random\n",
    "dong=['앞면', '뒷면']\n",
    "cnt=0\n",
    "for i in range(1,11):\n",
    "    result=random.choice(dong) # 코인을 던진 결과를 result에다가 대입\n",
    "    # print(result)\n",
    "    if result=='앞면':\n",
    "        cnt+=1   # cnt = cnt+1\n",
    "        \n",
    "print(f'앞면의 횟수 : {cnt} 이다')"
   ]
  },
  {
   "cell_type": "markdown",
   "id": "495f3d4b",
   "metadata": {},
   "source": [
    "exam09) 주사위를 100번 던져서 눈이 3이 나오는 횟수를 출력 해보자"
   ]
  },
  {
   "cell_type": "code",
   "execution_count": 9,
   "id": "ab796cc4",
   "metadata": {},
   "outputs": [
    {
     "name": "stdout",
     "output_type": "stream",
     "text": [
      "3의 횟수 : 19 이다\n"
     ]
    }
   ],
   "source": [
    "import random\n",
    "dice=[1,2,3,4,5,6]\n",
    "cnt=0\n",
    "for i in range(1,101):\n",
    "    result=random.choice(dice)\n",
    "    # print(result)\n",
    "    if result==3:\n",
    "        cnt+=1\n",
    "        \n",
    "print(f'3의 횟수 : {cnt} 이다')"
   ]
  },
  {
   "cell_type": "markdown",
   "id": "0fc83260",
   "metadata": {},
   "source": [
    "exam10) 주사위를 1000번 던져서 눈이 5가 나올 확률을 출력 해보자"
   ]
  },
  {
   "cell_type": "code",
   "execution_count": 10,
   "id": "491641cc",
   "metadata": {},
   "outputs": [
    {
     "name": "stdout",
     "output_type": "stream",
     "text": [
      "5의 확률 : 0.15 이다\n"
     ]
    }
   ],
   "source": [
    "import random\n",
    "dice=[1,2,3,4,5,6]\n",
    "cnt=0\n",
    "for i in range(1,1001):\n",
    "    result=random.choice(dice)\n",
    "    # print(result)\n",
    "    if result==5:\n",
    "        cnt+=1\n",
    "result=cnt/1000\n",
    "print(f'5의 확률 : {result} 이다')"
   ]
  },
  {
   "cell_type": "markdown",
   "id": "2b580241",
   "metadata": {},
   "source": [
    "exam11) 주사위를 10번 던져서 눈이 짝수가 나오는 횟수를 출력하세요"
   ]
  },
  {
   "cell_type": "code",
   "execution_count": 11,
   "id": "4096d4f0",
   "metadata": {},
   "outputs": [
    {
     "name": "stdout",
     "output_type": "stream",
     "text": [
      "짝수가 나오는 횟수 : 2 이다\n"
     ]
    }
   ],
   "source": [
    "import random\n",
    "dice=[1,2,3,4,5,6]\n",
    "cnt=0\n",
    "for i in range(1,11):\n",
    "    result=random.choice(dice)\n",
    "    # print(result)\n",
    "    if result%2==0:\n",
    "        cnt+=1\n",
    "        \n",
    "print(f'짝수가 나오는 횟수 : {cnt} 이다')"
   ]
  },
  {
   "cell_type": "markdown",
   "id": "e732ed6a",
   "metadata": {},
   "source": [
    "exam12) 주사위를 10번 던졌을 때 짝수가 나오는 횟수를 확인하는 작업을 5번 반복해서 짝수가 나오는 횟수가 5개 나오게 하자."
   ]
  },
  {
   "cell_type": "code",
   "execution_count": 12,
   "id": "e9f26155",
   "metadata": {},
   "outputs": [
    {
     "name": "stdout",
     "output_type": "stream",
     "text": [
      "3\n",
      "5\n",
      "6\n",
      "3\n",
      "4\n"
     ]
    }
   ],
   "source": [
    "import random\n",
    "dice=[1,2,3,4,5,6]\n",
    "\n",
    "for j in range(1,6):\n",
    "    cnt=0\n",
    "    for i in range(1,11):\n",
    "        result=random.choice(dice)\n",
    "        # print(result)\n",
    "        if result%2==0:\n",
    "            cnt+=1        \n",
    "    print(cnt)"
   ]
  },
  {
   "cell_type": "markdown",
   "id": "6d5bbd2d",
   "metadata": {},
   "source": [
    "exam13) 동전을 100번 던져서 앞면이 나올 확률을 구하자."
   ]
  },
  {
   "cell_type": "code",
   "execution_count": 13,
   "id": "7ec329f5",
   "metadata": {},
   "outputs": [
    {
     "name": "stdout",
     "output_type": "stream",
     "text": [
      "앞면의 확률 : 0.5 이다\n"
     ]
    }
   ],
   "source": [
    "import random\n",
    "dong=['앞면','뒷면']\n",
    "cnt=0\n",
    "for i in range(1,101):\n",
    "    result=random.choice(dong)\n",
    "    if result=='앞면':\n",
    "        cnt+=1\n",
    "n1=cnt/100\n",
    "print(f'앞면의 확률 : {n1} 이다')"
   ]
  },
  {
   "cell_type": "markdown",
   "id": "7848dd5d",
   "metadata": {},
   "source": [
    "exam14) 동전을 100번 던져서 앞면이 나올 확률을 구하는 작업을 50번 반복해서 확률을 50개 출력하자."
   ]
  },
  {
   "cell_type": "code",
   "execution_count": 14,
   "id": "58fe3f20",
   "metadata": {},
   "outputs": [
    {
     "name": "stdout",
     "output_type": "stream",
     "text": [
      "[0.51, 0.45, 0.54, 0.48, 0.47, 0.44, 0.55, 0.46, 0.51, 0.42, 0.5, 0.53, 0.49, 0.55, 0.45, 0.49, 0.46, 0.52, 0.54, 0.49, 0.48, 0.48, 0.45, 0.47, 0.59, 0.55, 0.48, 0.56, 0.53, 0.47, 0.59, 0.42, 0.43, 0.49, 0.6, 0.48, 0.49, 0.51, 0.5, 0.49, 0.44, 0.54, 0.55, 0.46, 0.48, 0.52, 0.54, 0.54, 0.54, 0.47]\n"
     ]
    }
   ],
   "source": [
    "import random\n",
    "\n",
    "dong=['앞면','뒷면']\n",
    "\n",
    "res=[]  # 비어 있는 리스트 객체를 생성\n",
    "\n",
    "for j in range(1,51):\n",
    "    cnt=0\n",
    "    for i in range(1,101):\n",
    "        \n",
    "        result=random.choice(dong)  # 코인을 던진 결과 result 변수에 대입\n",
    "        \n",
    "        if result=='앞면':  # 던진 결과가 앞면일 경우\n",
    "            cnt+=1          # 갯수 증가\n",
    "    # print(cnt/100)\n",
    "    res.append(cnt/100)\n",
    "    \n",
    "print(res)  # 전체 결과 출력"
   ]
  },
  {
   "cell_type": "markdown",
   "id": "11245c56",
   "metadata": {},
   "source": [
    "exam15) 두개의 동전을 300번 던져서 동시에 둘다 앞면이 나오는 횟수를 출력하시오"
   ]
  },
  {
   "cell_type": "code",
   "execution_count": 15,
   "id": "b97b7ce2",
   "metadata": {},
   "outputs": [
    {
     "name": "stdout",
     "output_type": "stream",
     "text": [
      "90\n"
     ]
    }
   ],
   "source": [
    "import random\n",
    "\n",
    "dong1=['앞면','뒷면']\n",
    "dong2=['앞면','뒷면']\n",
    "cnt=0\n",
    "\n",
    "for i in range(1,301):\n",
    "    result1=random.choice(dong1)  # 코인을 던진 결과 result 변수에 대입\n",
    "    result2=random.choice(dong2)  # 코인을 던진 결과 result 변수에 대입\n",
    "    \n",
    "    if result1=='앞면' and result2=='앞면': \n",
    "# result1==result2=='앞면' 하면 앞면을 result2에 주고 result1에 주는 거니까 하지 말자\n",
    "        cnt+=1\n",
    "print(cnt)  # 전체 결과 출력"
   ]
  },
  {
   "cell_type": "markdown",
   "id": "32d49047",
   "metadata": {},
   "source": [
    "exam16) 동전 한개와 주사위 한개를 동시에 100번을 던져서 동전은 앞면이 나오고 눈은 5가 나오는 횟수를 출력하자"
   ]
  },
  {
   "cell_type": "code",
   "execution_count": 16,
   "id": "3637bbcb",
   "metadata": {},
   "outputs": [
    {
     "name": "stdout",
     "output_type": "stream",
     "text": [
      "9\n"
     ]
    }
   ],
   "source": [
    "import random\n",
    "\n",
    "dong1=['앞면','뒷면']\n",
    "dice=[1,2,3,4,5,6]\n",
    "cnt=0\n",
    "\n",
    "for i in range(1,101):\n",
    "    result1=random.choice(dong1)  \n",
    "    result2=random.choice(dice)  \n",
    "    \n",
    "    if result1=='앞면' and result2==5: \n",
    "        cnt+=1\n",
    "        \n",
    "print(cnt) "
   ]
  },
  {
   "cell_type": "markdown",
   "id": "59e736df",
   "metadata": {},
   "source": [
    "exam17) 리스트 객체의 평균값을 구하자."
   ]
  },
  {
   "cell_type": "code",
   "execution_count": 17,
   "id": "c84355dd",
   "metadata": {},
   "outputs": [
    {
     "name": "stdout",
     "output_type": "stream",
     "text": [
      "3.0\n",
      "2.0\n",
      "1.4142135623730951\n"
     ]
    }
   ],
   "source": [
    "import numpy as np\n",
    "#print(dir(np))\n",
    "#help(np.mean)\n",
    "mylist=[1,2,3,4,5]\n",
    "print(np.mean(mylist)) # 평균\n",
    "print(np.var(mylist))  # 분산\n",
    "print(np.std(mylist))  # 표준편차"
   ]
  },
  {
   "cell_type": "code",
   "execution_count": 18,
   "id": "92e339f1",
   "metadata": {},
   "outputs": [],
   "source": [
    "#!pip install numpy"
   ]
  },
  {
   "cell_type": "markdown",
   "id": "f18f7d8e",
   "metadata": {},
   "source": [
    "### numpy : 배열을 가지고 산술연산하는 친구"
   ]
  },
  {
   "cell_type": "code",
   "execution_count": null,
   "id": "e65666bb",
   "metadata": {},
   "outputs": [],
   "source": []
  }
 ],
 "metadata": {
  "kernelspec": {
   "display_name": "Python 3 (ipykernel)",
   "language": "python",
   "name": "python3"
  },
  "language_info": {
   "codemirror_mode": {
    "name": "ipython",
    "version": 3
   },
   "file_extension": ".py",
   "mimetype": "text/x-python",
   "name": "python",
   "nbconvert_exporter": "python",
   "pygments_lexer": "ipython3",
   "version": "3.11.5"
  }
 },
 "nbformat": 4,
 "nbformat_minor": 5
}
