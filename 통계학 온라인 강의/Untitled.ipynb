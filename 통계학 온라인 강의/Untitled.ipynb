{
 "cells": [
  {
   "cell_type": "markdown",
   "id": "edaa7d6f",
   "metadata": {},
   "source": [
    "# 통계"
   ]
  },
  {
   "cell_type": "markdown",
   "id": "dc84e99d",
   "metadata": {},
   "source": [
    "### 통계학: 데이터의 요약, 추론, 해석하는데의도구 // 모수: 미지의 값"
   ]
  },
  {
   "cell_type": "markdown",
   "id": "0e25af5f",
   "metadata": {},
   "source": [
    "## 1. 확률의 성질과 특성"
   ]
  },
  {
   "cell_type": "markdown",
   "id": "fbf86b3e",
   "metadata": {},
   "source": [
    "### 확률의 기본 개념"
   ]
  },
  {
   "cell_type": "markdown",
   "id": "abb96edb",
   "metadata": {},
   "source": [
    "- 확률모형(probability model) : 시행을 반복할 때마다 나오는 결과가 우연에 의족하여 매번 달라지는 현상 또는 실험(확률실험, random experiment)에 대한 수리적 모형\n",
    "- 표본공간(smaple space): 확률 실험에서의 모든 관찰 가능한 결과의 집합, S로 표기\n",
    "- 사건(event) : 표본공간의 임의의 부분집합, A,B 등으로 표기"
   ]
  },
  {
   "cell_type": "markdown",
   "id": "56273343",
   "metadata": {},
   "source": [
    "### 고전적 접근 (P.Laplace)\n",
    "- n개의 실험결과로 구성된 표본공간에서 각 실험결과가 일어날 가능성이 같은 경우, m (m<=n)개의 실험 결과로 구성된 사건 A의 확률을 아래와 같이 정의함. P(A)= m/n"
   ]
  },
  {
   "cell_type": "markdown",
   "id": "7258a673",
   "metadata": {},
   "source": [
    "### 상대적 비율에 의한 접근(Richard Non Mises)\n",
    "- n번의 반복된 실험 중 어떤 사건 A가 발생한 횟수를 m이라고 할때, 사건 A의 상대빈도는 m/n으로 구해짐\n",
    "- 이 실험의 반복 횟수 n을 무한히 증가했을 때, 사건 A의 상대빈도가 수렴하는 값을 사건 A의 확률로 정의하고자 함."
   ]
  },
  {
   "cell_type": "markdown",
   "id": "a329b8e1",
   "metadata": {},
   "source": [
    "### 확률의 공리\n",
    "1) 임의의 사건 A에 대하여 P(A)>=0\n",
    "2) P(S)=1\n",
    "3) 표본공간 S에 정의된 서로 상호배반(동시에 발생하지 않는 사이)인 사건 A1,A2,... 에 대하여 P(A1∪A2∪...)=P(A1)+P(A2)+... 가 성립"
   ]
  },
  {
   "cell_type": "markdown",
   "id": "cff0025e",
   "metadata": {},
   "source": [
    "### 공리적 접근 방식 : 표본공간을 정의역으로 하며, 위 세가지 공리를 만족하는 함수를 확률로 정의"
   ]
  },
  {
   "cell_type": "markdown",
   "id": "81d09cb7",
   "metadata": {},
   "source": [
    "### 여사건의 확률\n",
    "- P[Aⓒ]: 사건 A를 제외한 나머지 사건의 확률\n",
    "- P[Aⓒ]= 1-P[A]"
   ]
  },
  {
   "cell_type": "markdown",
   "id": "c505f946",
   "metadata": {},
   "source": [
    "### 곱사건의 확률\n",
    "- P[A∩B]: 사건 A와 사건 B가 동시에 발생할 확률"
   ]
  },
  {
   "cell_type": "markdown",
   "id": "52d96b19",
   "metadata": {},
   "source": [
    "### 합사건의 확률\n",
    "- P(A∪B): 사건 A 또는 사건 B가 발생할 확률\n",
    "- P(A∪B) = P(A)+P(B)-P(A∩B)"
   ]
  },
  {
   "cell_type": "markdown",
   "id": "899c920d",
   "metadata": {},
   "source": [
    "### 조건부 확률의 정의\n",
    "- A와 B가 표본공간 S상에 정의되어 있으며 P(B)>0이라고 가정.\n",
    "- 이때 사건 B가 일어났다는 가정 하의 사건 A가 일어날 조건부확률은 다음과 같이 정의됨\n",
    "- P(A|B)=P(A∩B)/P(B)"
   ]
  },
  {
   "cell_type": "markdown",
   "id": "4245536c",
   "metadata": {},
   "source": [
    "### 독립 사건의 정의\n",
    "- 두 사건 A와 B가 다음 중 하나를 만족시키면 서로 독립이라고 함. (단, P(A)>0, P(B)>0)\n",
    "    1) P(A|B)=P(A)     => P(A∩B)/P(B)=P(A)\n",
    "    2) P(A∩B)=P(A)*P(B)\n",
    "    3) P(B|A)=P(B)     => P(A∩B)/P(A)=P(B)"
   ]
  },
  {
   "cell_type": "markdown",
   "id": "b590aa85",
   "metadata": {},
   "source": [
    "## 2. 베이즈 정리 : 데이터라는 조건이 주어졌을 때 조건부확률을 구하는 공식\n",
    "- #분할 #전확률공식 #베이즈정리\n",
    "- 원인별 결과의 조건부 확률을 알고 있을 때, 결과를 전제로 각 원인의 조건부 확률을 도출\n",
    "- 표본공간 분할 -> 전확률 공식 이용 -> 베이즈 정리 적용\n",
    "- 원인에 대한 결과가 주어졌을 때 원인의 확률을 계산하기 위한 정의\n",
    "- P(결과|원인) => P(원인|결과)\n",
    "- A: 결과\n",
    "- B1, B2, B3, ... BK : 원인"
   ]
  },
  {
   "cell_type": "markdown",
   "id": "b66d7a5c",
   "metadata": {},
   "source": [
    "## 확률과 확률분포"
   ]
  },
  {
   "cell_type": "markdown",
   "id": "4c8f8252",
   "metadata": {},
   "source": [
    "### 표본공간의 분할 : 원인별 확률\n",
    "- B1,...,BK가 다음 조건을 만족하면 표본 공간 S의 분할이라고 함\n",
    "- 분할 조건 2가지\n",
    "    - 서로 다른 i, j에 대해 Bi∩Bj=∮ : 상호배반 \n",
    "    - B1∪B2∪...∪BK=S\n",
    "- 결과는 모든 원인들 중 하나여야 한다.\n",
    "- K= 3인 경우 -> B1, B2, B3 다 상호배반 관계"
   ]
  },
  {
   "cell_type": "markdown",
   "id": "90026809",
   "metadata": {},
   "source": [
    "### 전확률공식\n",
    "- 사건 B1, B2,...,BK는 상호배반이며, B1∪B2∪...∪BK=S 라고 함 => 분할조건 만족\n",
    "- 이때 S에서 정의되는 임의의 사건 A(결과)에 대하여 다음이 성립  \n",
    "\n",
    "- P(A|B)=P(A∩B)/P(B)    => P(A∩B) = P(B)*P(A|B)  \n",
    "\n",
    "- 분할조건 만족 시\n",
    "- P(A)=P(A∩B1)+...+P(A∩BK)\n",
    "-     =P(B1)*P(A|B1)+...+P(BK)*P(A|BK)  \n",
    "\n",
    "- K=3인 경우\n",
    "- P(A)=P(A∩B1)+P(A∩B2)+P(A∩B3)\n",
    "-     =P(B1)*P(A|B1)+P(B2)*P(A|B2)+P(B3)*P(A|B3)"
   ]
  },
  {
   "cell_type": "markdown",
   "id": "af3eda9d",
   "metadata": {},
   "source": [
    "### 베이즈 정리\n",
    "- 사건 B1, B2, ..., BK는 상호배반이며, B1∪B2∪...∪BK=S 라고 함\n",
    "- 이때 사건 A가 일어났다는 조건 하에서 사건 Bi가 일어날 확률은 다음과 같음\n",
    "- P(B1|A)=P(A∩B1)/P(A) = P(Bi)*P(A|Bi) / P(B1)*P(A|B1)+...+P(BK)*P(A|BK)\n",
    "-         조건부확률공식   조건부확률공식      전확률공식\n",
    "- A= 결과 // Bi= 원인i\n",
    "- 원인들 확률 과 각 원인별 결과의 확률이 주어져 있다면 결과를 주어졌을 때 원인의 확률을 알 수가 있다.\n",
    "\n",
    "- K=3인 경우\n",
    "- P(B1|A)= P(A∩B1)/P(A)= P(B1)*P(A|B1) / P(B1)*P(A|B1)+P(B2)*P(A|B2)+P(B3)*P(A|B3)\n",
    "- P(A|B)= P(A)*P(B|A) / P(A)*P(B|A) + P(Aⓒ)*P(B|Aⓒ)"
   ]
  },
  {
   "cell_type": "markdown",
   "id": "b75c63e9",
   "metadata": {},
   "source": [
    "### 베이즈 정리의 활용\n",
    "- B1, B2, ..., BK 으로 분할된 사건의 각 확률을 알고, 각 Bi를 전제로 했을 때의 사건 A가 발생할 조건부 확률을 알때, 사건 A를 전제로 한 각 Bi의 조건부 확률을 구하기 위한 정리\n",
    "- 1: 각 원인이 발생할 확률 를 알고\n",
    "- 2: 각 원인별 동일한 결과가 발생할 확률 를 알고\n",
    "- 3: 결과를 관찰한 다음 Bi가 원인일 확률 을 알 수 있다."
   ]
  },
  {
   "cell_type": "markdown",
   "id": "6160ca32",
   "metadata": {},
   "source": [
    "## 확률변수와 확률분포\n",
    "- #확률변수 #확률질량함수 #확률밀도함수 #누적분포함수 #기대값 #분산 #표준편차 #확률분포함수의 특성치\n",
    "- 기대값, 분산, 표준편차\n",
    "- 관심 대상인 모집단을 묘사하기 위해서 필요한 개념"
   ]
  },
  {
   "cell_type": "markdown",
   "id": "4e594445",
   "metadata": {},
   "source": [
    "### 확률변수\n",
    "- 확률변수: 표본공간에서 정의된 실수값 함수\n",
    "    - 이산형 확률변수: 확률변수가 취할 수 있는 값이 셀 수 있는 경우     -> 고객, 사고건 수, 불량 수...\n",
    "    - 연속형 확률변수: 주어진 구간에서 모든 실수 값을 취할 수 있어 셀 수 없는 경우    -> 시간, 길이, 온도, 무게...\n",
    "        - EX) S={t|t는 양의 실수}\n",
    "              X= 0<x<∞"
   ]
  },
  {
   "cell_type": "markdown",
   "id": "fae17812",
   "metadata": {},
   "source": [
    "### 확률분포\n",
    "- 확률질량함수 이산형 확률변수 PMF(Probability Mass Function)\n",
    "    - 확률변수 X가 이산형인 경우 X가 취할 수 있는 값 x1,x2,...,xn의 각각에 대하여 확률 P(X=x1),...,P(X=xn)을 대응시켜 주는 관계를 X의 확률질량함수라고 하며 f(x)로 표기\n",
    "        f(xi)=P(X=xi),    i=1,2,3,...,n\n",
    "    - 등호에 따라 값이 다름\n",
    "        \n",
    "- 확률질량함수의 성질\n",
    "    1) 모든 i=1,2,...,n에 대해 0<=f(xi)<=1\n",
    "    2) ∑i=1->nf(xi)=1\n",
    "    \n",
    "- 확률밀도함수 연속형 확률변수 PDF(Probability Density Function)\n",
    "    - 확률변수 X가 연속형인 경우 X가 가질 수 있는 구간(-∞,∞)위에서의 함수 f(x)가 다음을 만족할 때, 이를 X의 확률밀도함수라고 함.\n",
    "    ∫a->bf(x)dx+P(a<=X<=b) (단, -∞<a<b<∞)\n",
    "    - 연속형은 특정값의 확률은 못 구하지만 X가 임의의 어떤 구간에 포함될 확률은 정의할 수 있다.\n",
    "    - 곡선함수로 표현이 되는데 X가 A와 B사이에 속할 확률을 그 곡선의 높이가 아니라 곡선의 아래 면적으로 만들어주는 밀도함수\n",
    "    - X 값에서 등호가 있고 없고는 차이가 없다.\n",
    "    - 그래프 상 x가 일어날 확률은 높이로 나타낸다.\n",
    "    \n",
    "- 확률밀도함수의 성질\n",
    "    1) 모든 a,b에 대해 0<=∫a->bf(x)dx<=1\n",
    "    2) ∫-∞->∞f(x)dx=1\n",
    "    3) 면적이 확률\n",
    "    \n",
    "- 누적분포 함수 CDF(Cumulative Density Function)\n",
    "    - X의 확률밀도함수가 f(x)일 때, X의 누적분포함수 F(x)는 X<=x인 모든 X에 대한 f(x)의 적분 값이 됨\n",
    "    - P(X<=x)=F(x)\n",
    "    - F(-∞)=0, F(∞)=1\n",
    "    - x가 증가할 때 F(x)도 증가하며, F(x)는 음의 값을 가질 수 없음."
   ]
  },
  {
   "cell_type": "markdown",
   "id": "e5a688f0",
   "metadata": {},
   "source": [
    "### 확률분포의 특성치\n",
    "- 기대값: 분포의 무게중심, 중심 위치를 나타냄\n",
    "E(X)=μ= ∑all x xf(x)   x는 이산형\n",
    "        ∫-∞->∞f(x)dx   x는 연속형\n",
    "- 분산: 분포의 산포를 나타냄 (분산이 옆으로 얼마나 펑퍼짐한가를 나타냄)\n",
    "V(X)= σ² = E[(X-μ)²]\n",
    "- 1)σ²이 큰 경우              2)σ²이 작은 경우 \n",
    "     ∩ 사이 간격이 큼            ∩ 사이 간격이 좁음\n",
    "     - E(X-μ)=0 평균으로 하면 언제나 0이 된다는 성질을 가진다 그래서 편차를 그냥 평균하는 게 아니라\n",
    "     - E[(X-μ)²] 제곱해서 평균하자고 한다. = σ² = V(X) \n",
    "     - (X-μ) = 편차 즉, 편차 제곱의 기댓값\n",
    "- 표준편차: 분산의 제곱근. 단위가 보정됨\n",
    "S(X)=σ = √V(X)\n",
    "    - 플러스 마이너스 표준편차"
   ]
  },
  {
   "cell_type": "markdown",
   "id": "cffd6af5",
   "metadata": {},
   "source": []
  },
  {
   "cell_type": "markdown",
   "id": "0173bd95",
   "metadata": {},
   "source": []
  },
  {
   "cell_type": "markdown",
   "id": "db62b9e0",
   "metadata": {},
   "source": []
  },
  {
   "cell_type": "markdown",
   "id": "0a61c2ec",
   "metadata": {},
   "source": []
  },
  {
   "cell_type": "markdown",
   "id": "de1a16d7",
   "metadata": {},
   "source": []
  },
  {
   "cell_type": "markdown",
   "id": "ec596182",
   "metadata": {},
   "source": []
  },
  {
   "cell_type": "markdown",
   "id": "60950bf4",
   "metadata": {},
   "source": []
  },
  {
   "cell_type": "markdown",
   "id": "3501a5d0",
   "metadata": {},
   "source": []
  }
 ],
 "metadata": {
  "kernelspec": {
   "display_name": "Python 3 (ipykernel)",
   "language": "python",
   "name": "python3"
  },
  "language_info": {
   "codemirror_mode": {
    "name": "ipython",
    "version": 3
   },
   "file_extension": ".py",
   "mimetype": "text/x-python",
   "name": "python",
   "nbconvert_exporter": "python",
   "pygments_lexer": "ipython3",
   "version": "3.11.5"
  }
 },
 "nbformat": 4,
 "nbformat_minor": 5
}
